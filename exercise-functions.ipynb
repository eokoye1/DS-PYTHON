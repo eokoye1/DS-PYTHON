{
 "cells": [
  {
   "cell_type": "markdown",
   "id": "056fef2e",
   "metadata": {
    "papermill": {
     "duration": 0.00893,
     "end_time": "2023-02-11T19:42:00.051190",
     "exception": false,
     "start_time": "2023-02-11T19:42:00.042260",
     "status": "completed"
    },
    "tags": []
   },
   "source": [
    "**This notebook is an exercise in the [Intro to Programming](https://www.kaggle.com/learn/intro-to-programming) course.  You can reference the tutorial at [this link](https://www.kaggle.com/alexisbcook/functions).**\n",
    "\n",
    "---\n"
   ]
  },
  {
   "cell_type": "markdown",
   "id": "4e9cf3be",
   "metadata": {
    "papermill": {
     "duration": 0.006603,
     "end_time": "2023-02-11T19:42:00.064891",
     "exception": false,
     "start_time": "2023-02-11T19:42:00.058288",
     "status": "completed"
    },
    "tags": []
   },
   "source": [
    "In the tutorial, you learned about functions. In this exercise, you'll write some of your own!\n",
    "\n",
    "# Set up the notebook\n",
    "\n",
    "Run the next code cell without changes to set up the notebook."
   ]
  },
  {
   "cell_type": "code",
   "execution_count": 1,
   "id": "94c3ee50",
   "metadata": {
    "execution": {
     "iopub.execute_input": "2023-02-11T19:42:00.081875Z",
     "iopub.status.busy": "2023-02-11T19:42:00.080748Z",
     "iopub.status.idle": "2023-02-11T19:42:00.153311Z",
     "shell.execute_reply": "2023-02-11T19:42:00.151892Z"
    },
    "papermill": {
     "duration": 0.084665,
     "end_time": "2023-02-11T19:42:00.156392",
     "exception": false,
     "start_time": "2023-02-11T19:42:00.071727",
     "status": "completed"
    },
    "tags": []
   },
   "outputs": [
    {
     "name": "stdout",
     "output_type": "stream",
     "text": [
      "Setup complete.\n"
     ]
    }
   ],
   "source": [
    "# Set up the exercise\n",
    "import math\n",
    "from learntools.core import binder\n",
    "binder.bind(globals())\n",
    "from learntools.intro_to_programming.ex2 import *\n",
    "print('Setup complete.')"
   ]
  },
  {
   "cell_type": "markdown",
   "id": "e0b5d44c",
   "metadata": {
    "papermill": {
     "duration": 0.007191,
     "end_time": "2023-02-11T19:42:00.170886",
     "exception": false,
     "start_time": "2023-02-11T19:42:00.163695",
     "status": "completed"
    },
    "tags": []
   },
   "source": [
    "# Question 1\n",
    "\n",
    "In the [House Prices - Advanced Regression Techniques competition](https://www.kaggle.com/c/house-prices-advanced-regression-techniques/overview), you need to use information like the number of bedrooms and bathrooms to predict the price of a house.  Inspired by this competition, you'll write your own function to do this.\n",
    "\n",
    "In the next code cell, create a function `get_expected_cost()` that has two arguments:\n",
    "- `beds` - number of bedrooms \n",
    "- `baths` - number of bathrooms\n",
    "\n",
    "It should return the expected cost of a house with that number of bedrooms and bathrooms.  Assume that:\n",
    "- the expected cost for a house with 0 bedrooms and 0 bathrooms is `80000`.  \n",
    "- each bedroom adds `30000` to the expected cost\n",
    "- each bathroom adds `10000` to the expected cost.\n",
    "\n",
    "For instance, \n",
    "- a house with 1 bedroom and 1 bathroom has an expected cost of `120000`, and \n",
    "- a house with 2 bedrooms and 1 bathroom has an expected cost of `150000`."
   ]
  },
  {
   "cell_type": "code",
   "execution_count": 2,
   "id": "5231e14b",
   "metadata": {
    "execution": {
     "iopub.execute_input": "2023-02-11T19:42:00.187778Z",
     "iopub.status.busy": "2023-02-11T19:42:00.187263Z",
     "iopub.status.idle": "2023-02-11T19:42:00.201338Z",
     "shell.execute_reply": "2023-02-11T19:42:00.199957Z"
    },
    "papermill": {
     "duration": 0.025945,
     "end_time": "2023-02-11T19:42:00.204087",
     "exception": false,
     "start_time": "2023-02-11T19:42:00.178142",
     "status": "completed"
    },
    "tags": []
   },
   "outputs": [
    {
     "data": {
      "application/javascript": [
       "parent.postMessage({\"jupyterEvent\": \"custom.exercise_interaction\", \"data\": {\"outcomeType\": 1, \"valueTowardsCompletion\": 0.2, \"interactionType\": 1, \"questionType\": 2, \"questionId\": \"1_GetExpectedCost\", \"learnToolsVersion\": \"0.3.4\", \"failureMessage\": \"\", \"exceptionClass\": \"\", \"trace\": \"\"}}, \"*\")"
      ],
      "text/plain": [
       "<IPython.core.display.Javascript object>"
      ]
     },
     "metadata": {},
     "output_type": "display_data"
    },
    {
     "data": {
      "text/markdown": [
       "<span style=\"color:#33cc33\">Correct</span>"
      ],
      "text/plain": [
       "Correct"
      ]
     },
     "metadata": {},
     "output_type": "display_data"
    }
   ],
   "source": [
    "# TODO: Complete the function\n",
    "def get_expected_cost(beds, baths):\n",
    "    value = 80000+30000 * beds + 10000 * baths\n",
    "    #print(\"result from the first function is \", value)\n",
    "    return value\n",
    "\n",
    "\n",
    "# Check your answer \n",
    "q1.check()"
   ]
  },
  {
   "cell_type": "code",
   "execution_count": 3,
   "id": "750519f9",
   "metadata": {
    "execution": {
     "iopub.execute_input": "2023-02-11T19:42:00.221525Z",
     "iopub.status.busy": "2023-02-11T19:42:00.220852Z",
     "iopub.status.idle": "2023-02-11T19:42:00.228273Z",
     "shell.execute_reply": "2023-02-11T19:42:00.226503Z"
    },
    "papermill": {
     "duration": 0.019491,
     "end_time": "2023-02-11T19:42:00.231470",
     "exception": false,
     "start_time": "2023-02-11T19:42:00.211979",
     "status": "completed"
    },
    "tags": []
   },
   "outputs": [
    {
     "name": "stdout",
     "output_type": "stream",
     "text": [
      "the expected cost of 2beds and 1 bath is 150000\n",
      "the expected cost of 3beds and 3 bath is 200000\n"
     ]
    }
   ],
   "source": [
    " print(\"the expected cost of 2beds and 1 bath is\", get_expected_cost(2,1))\n",
    " print(\"the expected cost of 3beds and 3 bath is\", get_expected_cost(3,3))   "
   ]
  },
  {
   "cell_type": "markdown",
   "id": "27f823df",
   "metadata": {
    "papermill": {
     "duration": 0.007004,
     "end_time": "2023-02-11T19:42:00.246428",
     "exception": false,
     "start_time": "2023-02-11T19:42:00.239424",
     "status": "completed"
    },
    "tags": []
   },
   "source": [
    "# Question 2\n",
    "\n",
    "You are thinking about buying a home and want to get an idea of how much you will spend, based on the number of bedrooms and bathrooms.  You are trying to decide between four different options:\n",
    "- Option 1: house with two bedrooms and three bathrooms\n",
    "- Option 2: house with three bedrooms and two bathrooms\n",
    "- Option 3: house with three bedrooms and three bathrooms\n",
    "- Option 4: house with three bedrooms and four bathrooms\n",
    "\n",
    "Use the `get_expected_cost()` function you defined in question 1 to set `option_1`, `option_2`, `option_3`, and `option_4` to the expected cost of each option."
   ]
  },
  {
   "cell_type": "code",
   "execution_count": 4,
   "id": "04e59cba",
   "metadata": {
    "execution": {
     "iopub.execute_input": "2023-02-11T19:42:00.264401Z",
     "iopub.status.busy": "2023-02-11T19:42:00.263311Z",
     "iopub.status.idle": "2023-02-11T19:42:00.273855Z",
     "shell.execute_reply": "2023-02-11T19:42:00.272478Z"
    },
    "papermill": {
     "duration": 0.022055,
     "end_time": "2023-02-11T19:42:00.276345",
     "exception": false,
     "start_time": "2023-02-11T19:42:00.254290",
     "status": "completed"
    },
    "tags": []
   },
   "outputs": [
    {
     "data": {
      "application/javascript": [
       "parent.postMessage({\"jupyterEvent\": \"custom.exercise_interaction\", \"data\": {\"outcomeType\": 4, \"interactionType\": 1, \"questionType\": 1, \"questionId\": \"2_RunGetExpectedCost\", \"learnToolsVersion\": \"0.3.4\", \"valueTowardsCompletion\": 0.0, \"failureMessage\": \"\", \"exceptionClass\": \"\", \"trace\": \"\"}}, \"*\")"
      ],
      "text/plain": [
       "<IPython.core.display.Javascript object>"
      ]
     },
     "metadata": {},
     "output_type": "display_data"
    },
    {
     "data": {
      "text/markdown": [
       "<span style=\"color:#ccaa33\">Check:</span> When you've updated the starter code, `check()` will tell you whether your code is correct. Remember, you must create the following variables: `option_one`, `option_four`, `option_three`, `option_two`"
      ],
      "text/plain": [
       "Check: When you've updated the starter code, `check()` will tell you whether your code is correct. Remember, you must create the following variables: `option_one`, `option_four`, `option_three`, `option_two`"
      ]
     },
     "metadata": {},
     "output_type": "display_data"
    }
   ],
   "source": [
    "# TODO: Use the get_expected_cost function to fill in each value\n",
    "#option_one = get_expected_cost(2,3)  \n",
    "#option_two =  get_expected_cost(3,2) \n",
    "#option_three = get_expected_cost(3,3)\n",
    "#option_four =  get_expected_cost(3,4)\n",
    "\n",
    "#print(option_one)\n",
    "#print(option_two)\n",
    "#print(option_three)\n",
    "#print(option_four)\n",
    "\n",
    "option_1 = get_expected_cost(2,3)\n",
    "option_2 = get_expected_cost(3,2)\n",
    "option_3 = get_expected_cost(3,3)\n",
    "option_4 = get_expected_cost(3,4)\n",
    " #Check your answer\n",
    "q2.check()"
   ]
  },
  {
   "cell_type": "code",
   "execution_count": 5,
   "id": "7dbf1721",
   "metadata": {
    "execution": {
     "iopub.execute_input": "2023-02-11T19:42:00.296146Z",
     "iopub.status.busy": "2023-02-11T19:42:00.294671Z",
     "iopub.status.idle": "2023-02-11T19:42:00.300810Z",
     "shell.execute_reply": "2023-02-11T19:42:00.299793Z"
    },
    "papermill": {
     "duration": 0.017861,
     "end_time": "2023-02-11T19:42:00.303325",
     "exception": false,
     "start_time": "2023-02-11T19:42:00.285464",
     "status": "completed"
    },
    "tags": []
   },
   "outputs": [],
   "source": [
    "# Uncomment to see a hint\n",
    "#q2.hint()\n",
    "\n",
    "# Uncomment to view the solution\n",
    "#q2.solution()"
   ]
  },
  {
   "cell_type": "markdown",
   "id": "f1993001",
   "metadata": {
    "papermill": {
     "duration": 0.007331,
     "end_time": "2023-02-11T19:42:00.318214",
     "exception": false,
     "start_time": "2023-02-11T19:42:00.310883",
     "status": "completed"
    },
    "tags": []
   },
   "source": []
  },
  {
   "cell_type": "markdown",
   "id": "c47228fc",
   "metadata": {
    "papermill": {
     "duration": 0.007231,
     "end_time": "2023-02-11T19:42:00.333061",
     "exception": false,
     "start_time": "2023-02-11T19:42:00.325830",
     "status": "completed"
    },
    "tags": []
   },
   "source": []
  },
  {
   "cell_type": "markdown",
   "id": "fdbd6b04",
   "metadata": {
    "papermill": {
     "duration": 0.007282,
     "end_time": "2023-02-11T19:42:00.347951",
     "exception": false,
     "start_time": "2023-02-11T19:42:00.340669",
     "status": "completed"
    },
    "tags": []
   },
   "source": []
  },
  {
   "cell_type": "markdown",
   "id": "2cfbb1b9",
   "metadata": {
    "papermill": {
     "duration": 0.008233,
     "end_time": "2023-02-11T19:42:00.363976",
     "exception": false,
     "start_time": "2023-02-11T19:42:00.355743",
     "status": "completed"
    },
    "tags": []
   },
   "source": [
    "# Question 3\n",
    "\n",
    "You're a home decorator, and you'd like to use Python to streamline some of your work.  Specifically, you're creating a tool that you intend to use to calculate the cost of painting a room.\n",
    "\n",
    "As a first step, define a function `get_cost()` that takes as input:\n",
    "- `sqft_walls` = total square feet of walls to be painted\n",
    "- `sqft_ceiling` = square feet of ceiling to be painted\n",
    "- `sqft_per_gallon` = number of square feet that you can cover with one gallon of paint\n",
    "- `cost_per_gallon` = cost (in dollars) of one gallon of paint\n",
    "\n",
    "It should return the cost (in dollars) of putting one coat of paint on all walls and the ceiling.  Assume you can buy the exact amount of paint that you need, so you can buy partial gallons (e.g., if you need 7.523 gallons, you can buy that exact amount, instead of needing to buy 8 gallons and waste some paint).  Do not round your answer."
   ]
  },
  {
   "cell_type": "code",
   "execution_count": 6,
   "id": "7afb114f",
   "metadata": {
    "execution": {
     "iopub.execute_input": "2023-02-11T19:42:00.383235Z",
     "iopub.status.busy": "2023-02-11T19:42:00.381924Z",
     "iopub.status.idle": "2023-02-11T19:42:00.392586Z",
     "shell.execute_reply": "2023-02-11T19:42:00.391725Z"
    },
    "papermill": {
     "duration": 0.022647,
     "end_time": "2023-02-11T19:42:00.394707",
     "exception": false,
     "start_time": "2023-02-11T19:42:00.372060",
     "status": "completed"
    },
    "tags": []
   },
   "outputs": [
    {
     "data": {
      "application/javascript": [
       "parent.postMessage({\"jupyterEvent\": \"custom.exercise_interaction\", \"data\": {\"outcomeType\": 1, \"valueTowardsCompletion\": 0.2, \"interactionType\": 1, \"questionType\": 2, \"questionId\": \"3_GetCostPaint\", \"learnToolsVersion\": \"0.3.4\", \"failureMessage\": \"\", \"exceptionClass\": \"\", \"trace\": \"\"}}, \"*\")"
      ],
      "text/plain": [
       "<IPython.core.display.Javascript object>"
      ]
     },
     "metadata": {},
     "output_type": "display_data"
    },
    {
     "data": {
      "text/markdown": [
       "<span style=\"color:#33cc33\">Correct</span>"
      ],
      "text/plain": [
       "Correct"
      ]
     },
     "metadata": {},
     "output_type": "display_data"
    }
   ],
   "source": [
    "# TODO: Finish defining the function\n",
    "def get_cost(sqft_walls, sqft_ceiling, sqft_per_gallon, cost_per_gallon):\n",
    "    cost = cost_per_gallon/sqft_per_gallon * (sqft_walls + sqft_ceiling)\n",
    "    #sqft_walls = 8\n",
    "    #sqft_ceiling = 5\n",
    "    #cost_per_gallon = $20\n",
    "    #sqft_per_gallon = 3\n",
    "    return cost\n",
    "\n",
    "# Check your answer\n",
    "q3.check()"
   ]
  },
  {
   "cell_type": "code",
   "execution_count": 7,
   "id": "87093bb4",
   "metadata": {
    "execution": {
     "iopub.execute_input": "2023-02-11T19:42:00.413252Z",
     "iopub.status.busy": "2023-02-11T19:42:00.411938Z",
     "iopub.status.idle": "2023-02-11T19:42:00.420083Z",
     "shell.execute_reply": "2023-02-11T19:42:00.419148Z"
    },
    "papermill": {
     "duration": 0.019999,
     "end_time": "2023-02-11T19:42:00.422501",
     "exception": false,
     "start_time": "2023-02-11T19:42:00.402502",
     "status": "completed"
    },
    "tags": []
   },
   "outputs": [
    {
     "data": {
      "application/javascript": [
       "parent.postMessage({\"jupyterEvent\": \"custom.exercise_interaction\", \"data\": {\"interactionType\": 2, \"questionType\": 2, \"questionId\": \"3_GetCostPaint\", \"learnToolsVersion\": \"0.3.4\", \"valueTowardsCompletion\": 0.0, \"failureMessage\": \"\", \"exceptionClass\": \"\", \"trace\": \"\", \"outcomeType\": 4}}, \"*\")"
      ],
      "text/plain": [
       "<IPython.core.display.Javascript object>"
      ]
     },
     "metadata": {},
     "output_type": "display_data"
    },
    {
     "data": {
      "text/markdown": [
       "<span style=\"color:#3366cc\">Hint:</span> Begin by calculating the total number of square feet that need to be painted. Then, based on that, figure out how many gallons you need.  Then, once you know how many gallons you need, you can calculate the total cost of the project."
      ],
      "text/plain": [
       "Hint: Begin by calculating the total number of square feet that need to be painted. Then, based on that, figure out how many gallons you need.  Then, once you know how many gallons you need, you can calculate the total cost of the project."
      ]
     },
     "metadata": {},
     "output_type": "display_data"
    }
   ],
   "source": [
    "# Uncomment to see a hint\n",
    "q3.hint()\n",
    "\n",
    "# Uncomment to view the solution\n",
    "#q3.solution()"
   ]
  },
  {
   "cell_type": "markdown",
   "id": "d39621e2",
   "metadata": {
    "papermill": {
     "duration": 0.007791,
     "end_time": "2023-02-11T19:42:00.439161",
     "exception": false,
     "start_time": "2023-02-11T19:42:00.431370",
     "status": "completed"
    },
    "tags": []
   },
   "source": [
    "# Question 4\n",
    "\n",
    "Use the `get_cost()` function you defined in Question 3 to calculate the cost of applying one coat of paint to a room with:\n",
    "- 432 square feet of walls, and\n",
    "- 144 square feet of ceiling.\n",
    "\n",
    "Assume that one gallon of paint covers 400 square feet and costs $15.  As in Question 3, assume you can buy partial gallons of paint.  Do not round your answer."
   ]
  },
  {
   "cell_type": "code",
   "execution_count": 8,
   "id": "18bed1c9",
   "metadata": {
    "execution": {
     "iopub.execute_input": "2023-02-11T19:42:00.458246Z",
     "iopub.status.busy": "2023-02-11T19:42:00.457197Z",
     "iopub.status.idle": "2023-02-11T19:42:00.470167Z",
     "shell.execute_reply": "2023-02-11T19:42:00.468989Z"
    },
    "papermill": {
     "duration": 0.025124,
     "end_time": "2023-02-11T19:42:00.472648",
     "exception": false,
     "start_time": "2023-02-11T19:42:00.447524",
     "status": "completed"
    },
    "tags": []
   },
   "outputs": [
    {
     "name": "stdout",
     "output_type": "stream",
     "text": [
      "the project cost for painting 432 sqft of walls, 144 sqft of ceilings \n",
      "      assuming that one gallon of paint covers 400 square feet and costs $15 \n",
      "      and assuming you can buy partial gallons of paint is $21.60\n"
     ]
    },
    {
     "data": {
      "application/javascript": [
       "parent.postMessage({\"jupyterEvent\": \"custom.exercise_interaction\", \"data\": {\"outcomeType\": 1, \"valueTowardsCompletion\": 0.2, \"interactionType\": 1, \"questionType\": 1, \"questionId\": \"4_GetCostPaintExample\", \"learnToolsVersion\": \"0.3.4\", \"failureMessage\": \"\", \"exceptionClass\": \"\", \"trace\": \"\"}}, \"*\")"
      ],
      "text/plain": [
       "<IPython.core.display.Javascript object>"
      ]
     },
     "metadata": {},
     "output_type": "display_data"
    },
    {
     "data": {
      "text/markdown": [
       "<span style=\"color:#33cc33\">Correct</span>"
      ],
      "text/plain": [
       "Correct"
      ]
     },
     "metadata": {},
     "output_type": "display_data"
    }
   ],
   "source": [
    "# TODO: Set the project_cost variable to the cost of the project\n",
    "project_cost = get_cost(432,144, 400, 15)\n",
    "print('''the project cost for painting 432 sqft of walls, 144 sqft of ceilings \n",
    "      assuming that one gallon of paint covers 400 square feet and costs $15 \n",
    "      and assuming you can buy partial gallons of paint is ${:.2f}'''.format(project_cost))\n",
    "    \n",
    "# Check your answer\n",
    "q4.check()"
   ]
  },
  {
   "cell_type": "code",
   "execution_count": 9,
   "id": "78c14b3a",
   "metadata": {
    "execution": {
     "iopub.execute_input": "2023-02-11T19:42:00.492816Z",
     "iopub.status.busy": "2023-02-11T19:42:00.491409Z",
     "iopub.status.idle": "2023-02-11T19:42:00.498588Z",
     "shell.execute_reply": "2023-02-11T19:42:00.497172Z"
    },
    "papermill": {
     "duration": 0.020589,
     "end_time": "2023-02-11T19:42:00.501936",
     "exception": false,
     "start_time": "2023-02-11T19:42:00.481347",
     "status": "completed"
    },
    "tags": []
   },
   "outputs": [
    {
     "name": "stdout",
     "output_type": "stream",
     "text": [
      "the project cost for painting 432 sqft of walls, 144 sqft of ceilings \n",
      "      assuming that one gallon of paint covers 400 square feet and costs $15 \n",
      "      and assuming you can buy partial gallons of paint is $21.60\n"
     ]
    }
   ],
   "source": [
    "print(f'''the project cost for painting 432 sqft of walls, 144 sqft of ceilings \n",
    "      assuming that one gallon of paint covers 400 square feet and costs $15 \n",
    "      and assuming you can buy partial gallons of paint is ${project_cost:.2f}''')"
   ]
  },
  {
   "cell_type": "code",
   "execution_count": 10,
   "id": "3d2ff6c1",
   "metadata": {
    "execution": {
     "iopub.execute_input": "2023-02-11T19:42:00.521030Z",
     "iopub.status.busy": "2023-02-11T19:42:00.520593Z",
     "iopub.status.idle": "2023-02-11T19:42:00.529204Z",
     "shell.execute_reply": "2023-02-11T19:42:00.527900Z"
    },
    "papermill": {
     "duration": 0.020905,
     "end_time": "2023-02-11T19:42:00.531684",
     "exception": false,
     "start_time": "2023-02-11T19:42:00.510779",
     "status": "completed"
    },
    "tags": []
   },
   "outputs": [
    {
     "data": {
      "text/plain": [
       "22"
      ]
     },
     "execution_count": 10,
     "metadata": {},
     "output_type": "execute_result"
    }
   ],
   "source": [
    "math.ceil(project_cost)"
   ]
  },
  {
   "cell_type": "code",
   "execution_count": 11,
   "id": "d760c0ed",
   "metadata": {
    "execution": {
     "iopub.execute_input": "2023-02-11T19:42:00.551181Z",
     "iopub.status.busy": "2023-02-11T19:42:00.550654Z",
     "iopub.status.idle": "2023-02-11T19:42:00.556690Z",
     "shell.execute_reply": "2023-02-11T19:42:00.555138Z"
    },
    "papermill": {
     "duration": 0.019282,
     "end_time": "2023-02-11T19:42:00.559700",
     "exception": false,
     "start_time": "2023-02-11T19:42:00.540418",
     "status": "completed"
    },
    "tags": []
   },
   "outputs": [],
   "source": [
    "# Uncomment to see a hint\n",
    "#q4.hint()\n",
    "\n",
    "# Uncomment to view the solution\n",
    "#q4.solution()"
   ]
  },
  {
   "cell_type": "markdown",
   "id": "abb0f716",
   "metadata": {
    "papermill": {
     "duration": 0.009108,
     "end_time": "2023-02-11T19:42:00.577674",
     "exception": false,
     "start_time": "2023-02-11T19:42:00.568566",
     "status": "completed"
    },
    "tags": []
   },
   "source": [
    "# 🌶️ Question 5\n",
    "\n",
    "Now say you can no longer buy fractions of a gallon.  (For instance, if you need 4.3 gallons to do a project, then you have to buy 5 gallons of paint.)\n",
    "\n",
    "With this new scenario, you will create a new function `get_actual_cost` that uses the same inputs and calculates the cost of your project.\n",
    "\n",
    "One function that you'll need to use to do this is `math.ceil()`.  We demonstrate usage of this function in the code cell below.  It takes as a number as input and rounds the number up to the nearest integer.  \n",
    "\n",
    "Run the next code cell to test this function for yourself.  Feel free to change the value of `test_value` and make sure `math.ceil()` returns the number you expect."
   ]
  },
  {
   "cell_type": "code",
   "execution_count": 12,
   "id": "64bb42f8",
   "metadata": {
    "execution": {
     "iopub.execute_input": "2023-02-11T19:42:00.599780Z",
     "iopub.status.busy": "2023-02-11T19:42:00.599243Z",
     "iopub.status.idle": "2023-02-11T19:42:00.607885Z",
     "shell.execute_reply": "2023-02-11T19:42:00.606121Z"
    },
    "papermill": {
     "duration": 0.023217,
     "end_time": "2023-02-11T19:42:00.610816",
     "exception": false,
     "start_time": "2023-02-11T19:42:00.587599",
     "status": "completed"
    },
    "tags": []
   },
   "outputs": [
    {
     "name": "stdout",
     "output_type": "stream",
     "text": [
      "3\n"
     ]
    }
   ],
   "source": [
    "test_value = 2.17\n",
    "\n",
    "rounded_value = math.ceil(test_value)\n",
    "print(rounded_value)"
   ]
  },
  {
   "cell_type": "markdown",
   "id": "9c2d256e",
   "metadata": {
    "papermill": {
     "duration": 0.008553,
     "end_time": "2023-02-11T19:42:00.628943",
     "exception": false,
     "start_time": "2023-02-11T19:42:00.620390",
     "status": "completed"
    },
    "tags": []
   },
   "source": [
    "Use the next code cell to define the function `get_actual_cost()`.  You'll need to use the `math.ceil()` function to do this.\n",
    "\n",
    "When answering this question, note that it's completely valid to define a function that makes use of another function.  For instance, we can define a function `round_up_and_divide_by_three` that makes use of the `math.ceil` function:\n",
    "```\n",
    "def round_up_and_divide_by_three(num):\n",
    "    new_value = math.ceil(num)\n",
    "    final_value = new_value / 3\n",
    "    return final_value\n",
    "```"
   ]
  },
  {
   "cell_type": "code",
   "execution_count": 13,
   "id": "6c6ee161",
   "metadata": {
    "execution": {
     "iopub.execute_input": "2023-02-11T19:42:00.649038Z",
     "iopub.status.busy": "2023-02-11T19:42:00.648547Z",
     "iopub.status.idle": "2023-02-11T19:42:00.659645Z",
     "shell.execute_reply": "2023-02-11T19:42:00.658081Z"
    },
    "papermill": {
     "duration": 0.024597,
     "end_time": "2023-02-11T19:42:00.662281",
     "exception": false,
     "start_time": "2023-02-11T19:42:00.637684",
     "status": "completed"
    },
    "tags": []
   },
   "outputs": [
    {
     "data": {
      "application/javascript": [
       "parent.postMessage({\"jupyterEvent\": \"custom.exercise_interaction\", \"data\": {\"outcomeType\": 1, \"valueTowardsCompletion\": 0.2, \"interactionType\": 1, \"questionType\": 2, \"questionId\": \"5_NoMoreFractions\", \"learnToolsVersion\": \"0.3.4\", \"failureMessage\": \"\", \"exceptionClass\": \"\", \"trace\": \"\"}}, \"*\")"
      ],
      "text/plain": [
       "<IPython.core.display.Javascript object>"
      ]
     },
     "metadata": {},
     "output_type": "display_data"
    },
    {
     "data": {
      "text/markdown": [
       "<span style=\"color:#33cc33\">Correct</span>"
      ],
      "text/plain": [
       "Correct"
      ]
     },
     "metadata": {},
     "output_type": "display_data"
    }
   ],
   "source": [
    "def get_actual_cost(sqft_walls, sqft_ceiling, sqft_per_gallon, cost_per_gallon):\n",
    "    cost =cost_per_gallon* math.ceil((sqft_walls+sqft_ceiling)/sqft_per_gallon)\n",
    "    return cost\n",
    "\n",
    "# Check your answer\n",
    "q5.check()"
   ]
  },
  {
   "cell_type": "code",
   "execution_count": 14,
   "id": "c57312b4",
   "metadata": {
    "execution": {
     "iopub.execute_input": "2023-02-11T19:42:00.684758Z",
     "iopub.status.busy": "2023-02-11T19:42:00.683911Z",
     "iopub.status.idle": "2023-02-11T19:42:00.690230Z",
     "shell.execute_reply": "2023-02-11T19:42:00.688552Z"
    },
    "papermill": {
     "duration": 0.021414,
     "end_time": "2023-02-11T19:42:00.692892",
     "exception": false,
     "start_time": "2023-02-11T19:42:00.671478",
     "status": "completed"
    },
    "tags": []
   },
   "outputs": [],
   "source": [
    "# Uncomment to see a hint\n",
    "#q5.hint()\n",
    "\n",
    "# Uncomment to view the solution\n",
    "#q5.solution()"
   ]
  },
  {
   "cell_type": "markdown",
   "id": "7419e24a",
   "metadata": {
    "papermill": {
     "duration": 0.008686,
     "end_time": "2023-02-11T19:42:00.711419",
     "exception": false,
     "start_time": "2023-02-11T19:42:00.702733",
     "status": "completed"
    },
    "tags": []
   },
   "source": [
    "Once your function is verified as correct, run the next code cell to calculate the updated cost of your project."
   ]
  },
  {
   "cell_type": "code",
   "execution_count": 15,
   "id": "0fac1b48",
   "metadata": {
    "execution": {
     "iopub.execute_input": "2023-02-11T19:42:00.731864Z",
     "iopub.status.busy": "2023-02-11T19:42:00.731440Z",
     "iopub.status.idle": "2023-02-11T19:42:00.738495Z",
     "shell.execute_reply": "2023-02-11T19:42:00.737251Z"
    },
    "papermill": {
     "duration": 0.020764,
     "end_time": "2023-02-11T19:42:00.741110",
     "exception": false,
     "start_time": "2023-02-11T19:42:00.720346",
     "status": "completed"
    },
    "tags": []
   },
   "outputs": [
    {
     "data": {
      "text/plain": [
       "30"
      ]
     },
     "execution_count": 15,
     "metadata": {},
     "output_type": "execute_result"
    }
   ],
   "source": [
    "get_actual_cost(432, 144, 400, 15) "
   ]
  },
  {
   "cell_type": "markdown",
   "id": "c326e748",
   "metadata": {
    "papermill": {
     "duration": 0.008762,
     "end_time": "2023-02-11T19:42:00.759050",
     "exception": false,
     "start_time": "2023-02-11T19:42:00.750288",
     "status": "completed"
    },
    "tags": []
   },
   "source": [
    "Say you're working with a slightly larger room.  Run the next code cell to calculate the cost of the project."
   ]
  },
  {
   "cell_type": "code",
   "execution_count": 16,
   "id": "e43c149b",
   "metadata": {
    "execution": {
     "iopub.execute_input": "2023-02-11T19:42:00.781103Z",
     "iopub.status.busy": "2023-02-11T19:42:00.780607Z",
     "iopub.status.idle": "2023-02-11T19:42:00.789351Z",
     "shell.execute_reply": "2023-02-11T19:42:00.787862Z"
    },
    "papermill": {
     "duration": 0.022233,
     "end_time": "2023-02-11T19:42:00.791880",
     "exception": false,
     "start_time": "2023-02-11T19:42:00.769647",
     "status": "completed"
    },
    "tags": []
   },
   "outputs": [
    {
     "data": {
      "text/plain": [
       "45"
      ]
     },
     "execution_count": 16,
     "metadata": {},
     "output_type": "execute_result"
    }
   ],
   "source": [
    "get_actual_cost(594, 288, 400, 15) "
   ]
  },
  {
   "cell_type": "markdown",
   "id": "45bfc16b",
   "metadata": {
    "papermill": {
     "duration": 0.008806,
     "end_time": "2023-02-11T19:42:00.810188",
     "exception": false,
     "start_time": "2023-02-11T19:42:00.801382",
     "status": "completed"
    },
    "tags": []
   },
   "source": [
    "# Keep going\n",
    "\n",
    "Continue to learn about **[data types](https://www.kaggle.com/alexisbcook/data-types)**."
   ]
  },
  {
   "cell_type": "markdown",
   "id": "8840e859",
   "metadata": {
    "papermill": {
     "duration": 0.008983,
     "end_time": "2023-02-11T19:42:00.828364",
     "exception": false,
     "start_time": "2023-02-11T19:42:00.819381",
     "status": "completed"
    },
    "tags": []
   },
   "source": [
    "---\n",
    "\n",
    "\n",
    "\n",
    "\n",
    "*Have questions or comments? Visit the [course discussion forum](https://www.kaggle.com/learn/intro-to-programming/discussion) to chat with other learners.*"
   ]
  }
 ],
 "metadata": {
  "kernelspec": {
   "display_name": "Python 3",
   "language": "python",
   "name": "python3"
  },
  "language_info": {
   "codemirror_mode": {
    "name": "ipython",
    "version": 3
   },
   "file_extension": ".py",
   "mimetype": "text/x-python",
   "name": "python",
   "nbconvert_exporter": "python",
   "pygments_lexer": "ipython3",
   "version": "3.7.12"
  },
  "papermill": {
   "default_parameters": {},
   "duration": 10.818043,
   "end_time": "2023-02-11T19:42:01.561704",
   "environment_variables": {},
   "exception": null,
   "input_path": "__notebook__.ipynb",
   "output_path": "__notebook__.ipynb",
   "parameters": {},
   "start_time": "2023-02-11T19:41:50.743661",
   "version": "2.3.4"
  }
 },
 "nbformat": 4,
 "nbformat_minor": 5
}
