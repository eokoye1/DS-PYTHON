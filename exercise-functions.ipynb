{
 "cells": [
  {
   "cell_type": "markdown",
   "id": "43f50b73",
   "metadata": {
    "papermill": {
     "duration": 0.008142,
     "end_time": "2023-02-11T19:41:00.565001",
     "exception": false,
     "start_time": "2023-02-11T19:41:00.556859",
     "status": "completed"
    },
    "tags": []
   },
   "source": [
    "**This notebook is an exercise in the [Intro to Programming](https://www.kaggle.com/learn/intro-to-programming) course.  You can reference the tutorial at [this link](https://www.kaggle.com/alexisbcook/functions).**\n",
    "\n",
    "---\n"
   ]
  },
  {
   "cell_type": "markdown",
   "id": "5193b795",
   "metadata": {
    "papermill": {
     "duration": 0.006297,
     "end_time": "2023-02-11T19:41:00.578073",
     "exception": false,
     "start_time": "2023-02-11T19:41:00.571776",
     "status": "completed"
    },
    "tags": []
   },
   "source": [
    "In the tutorial, you learned about functions. In this exercise, you'll write some of your own!\n",
    "\n",
    "# Set up the notebook\n",
    "\n",
    "Run the next code cell without changes to set up the notebook."
   ]
  },
  {
   "cell_type": "code",
   "execution_count": 1,
   "id": "392baac5",
   "metadata": {
    "execution": {
     "iopub.execute_input": "2023-02-11T19:41:00.593377Z",
     "iopub.status.busy": "2023-02-11T19:41:00.592617Z",
     "iopub.status.idle": "2023-02-11T19:41:00.650177Z",
     "shell.execute_reply": "2023-02-11T19:41:00.649030Z"
    },
    "papermill": {
     "duration": 0.0689,
     "end_time": "2023-02-11T19:41:00.653497",
     "exception": false,
     "start_time": "2023-02-11T19:41:00.584597",
     "status": "completed"
    },
    "tags": []
   },
   "outputs": [
    {
     "name": "stdout",
     "output_type": "stream",
     "text": [
      "Setup complete.\n"
     ]
    }
   ],
   "source": [
    "# Set up the exercise\n",
    "import math\n",
    "from learntools.core import binder\n",
    "binder.bind(globals())\n",
    "from learntools.intro_to_programming.ex2 import *\n",
    "print('Setup complete.')"
   ]
  },
  {
   "cell_type": "markdown",
   "id": "698e6378",
   "metadata": {
    "papermill": {
     "duration": 0.006445,
     "end_time": "2023-02-11T19:41:00.667535",
     "exception": false,
     "start_time": "2023-02-11T19:41:00.661090",
     "status": "completed"
    },
    "tags": []
   },
   "source": [
    "# Question 1\n",
    "\n",
    "In the [House Prices - Advanced Regression Techniques competition](https://www.kaggle.com/c/house-prices-advanced-regression-techniques/overview), you need to use information like the number of bedrooms and bathrooms to predict the price of a house.  Inspired by this competition, you'll write your own function to do this.\n",
    "\n",
    "In the next code cell, create a function `get_expected_cost()` that has two arguments:\n",
    "- `beds` - number of bedrooms \n",
    "- `baths` - number of bathrooms\n",
    "\n",
    "It should return the expected cost of a house with that number of bedrooms and bathrooms.  Assume that:\n",
    "- the expected cost for a house with 0 bedrooms and 0 bathrooms is `80000`.  \n",
    "- each bedroom adds `30000` to the expected cost\n",
    "- each bathroom adds `10000` to the expected cost.\n",
    "\n",
    "For instance, \n",
    "- a house with 1 bedroom and 1 bathroom has an expected cost of `120000`, and \n",
    "- a house with 2 bedrooms and 1 bathroom has an expected cost of `150000`."
   ]
  },
  {
   "cell_type": "code",
   "execution_count": 2,
   "id": "25bd6681",
   "metadata": {
    "execution": {
     "iopub.execute_input": "2023-02-11T19:41:00.682614Z",
     "iopub.status.busy": "2023-02-11T19:41:00.682181Z",
     "iopub.status.idle": "2023-02-11T19:41:00.693159Z",
     "shell.execute_reply": "2023-02-11T19:41:00.692388Z"
    },
    "papermill": {
     "duration": 0.020884,
     "end_time": "2023-02-11T19:41:00.695193",
     "exception": false,
     "start_time": "2023-02-11T19:41:00.674309",
     "status": "completed"
    },
    "tags": []
   },
   "outputs": [
    {
     "data": {
      "application/javascript": [
       "parent.postMessage({\"jupyterEvent\": \"custom.exercise_interaction\", \"data\": {\"outcomeType\": 1, \"valueTowardsCompletion\": 0.2, \"interactionType\": 1, \"questionType\": 2, \"questionId\": \"1_GetExpectedCost\", \"learnToolsVersion\": \"0.3.4\", \"failureMessage\": \"\", \"exceptionClass\": \"\", \"trace\": \"\"}}, \"*\")"
      ],
      "text/plain": [
       "<IPython.core.display.Javascript object>"
      ]
     },
     "metadata": {},
     "output_type": "display_data"
    },
    {
     "data": {
      "text/markdown": [
       "<span style=\"color:#33cc33\">Correct</span>"
      ],
      "text/plain": [
       "Correct"
      ]
     },
     "metadata": {},
     "output_type": "display_data"
    }
   ],
   "source": [
    "# TODO: Complete the function\n",
    "def get_expected_cost(beds, baths):\n",
    "    value = 80000+30000 * beds + 10000 * baths\n",
    "    #print(\"result from the first function is \", value)\n",
    "    return value\n",
    "\n",
    "\n",
    "# Check your answer \n",
    "q1.check()"
   ]
  },
  {
   "cell_type": "code",
   "execution_count": 3,
   "id": "61d9bb35",
   "metadata": {
    "execution": {
     "iopub.execute_input": "2023-02-11T19:41:00.711089Z",
     "iopub.status.busy": "2023-02-11T19:41:00.710409Z",
     "iopub.status.idle": "2023-02-11T19:41:00.716695Z",
     "shell.execute_reply": "2023-02-11T19:41:00.715265Z"
    },
    "papermill": {
     "duration": 0.017581,
     "end_time": "2023-02-11T19:41:00.719750",
     "exception": false,
     "start_time": "2023-02-11T19:41:00.702169",
     "status": "completed"
    },
    "tags": []
   },
   "outputs": [
    {
     "name": "stdout",
     "output_type": "stream",
     "text": [
      "the expected cost of 2beds and 1 bath is 150000\n",
      "the expected cost of 3beds and 3 bath is 200000\n"
     ]
    }
   ],
   "source": [
    " print(\"the expected cost of 2beds and 1 bath is\", get_expected_cost(2,1))\n",
    " print(\"the expected cost of 3beds and 3 bath is\", get_expected_cost(3,3))   "
   ]
  },
  {
   "cell_type": "markdown",
   "id": "87e14254",
   "metadata": {
    "papermill": {
     "duration": 0.006797,
     "end_time": "2023-02-11T19:41:00.734177",
     "exception": false,
     "start_time": "2023-02-11T19:41:00.727380",
     "status": "completed"
    },
    "tags": []
   },
   "source": [
    "# Question 2\n",
    "\n",
    "You are thinking about buying a home and want to get an idea of how much you will spend, based on the number of bedrooms and bathrooms.  You are trying to decide between four different options:\n",
    "- Option 1: house with two bedrooms and three bathrooms\n",
    "- Option 2: house with three bedrooms and two bathrooms\n",
    "- Option 3: house with three bedrooms and three bathrooms\n",
    "- Option 4: house with three bedrooms and four bathrooms\n",
    "\n",
    "Use the `get_expected_cost()` function you defined in question 1 to set `option_1`, `option_2`, `option_3`, and `option_4` to the expected cost of each option."
   ]
  },
  {
   "cell_type": "code",
   "execution_count": 4,
   "id": "697bac40",
   "metadata": {
    "execution": {
     "iopub.execute_input": "2023-02-11T19:41:00.750224Z",
     "iopub.status.busy": "2023-02-11T19:41:00.749839Z",
     "iopub.status.idle": "2023-02-11T19:41:00.759625Z",
     "shell.execute_reply": "2023-02-11T19:41:00.758507Z"
    },
    "papermill": {
     "duration": 0.020733,
     "end_time": "2023-02-11T19:41:00.762035",
     "exception": false,
     "start_time": "2023-02-11T19:41:00.741302",
     "status": "completed"
    },
    "tags": []
   },
   "outputs": [
    {
     "data": {
      "application/javascript": [
       "parent.postMessage({\"jupyterEvent\": \"custom.exercise_interaction\", \"data\": {\"outcomeType\": 4, \"interactionType\": 1, \"questionType\": 1, \"questionId\": \"2_RunGetExpectedCost\", \"learnToolsVersion\": \"0.3.4\", \"valueTowardsCompletion\": 0.0, \"failureMessage\": \"\", \"exceptionClass\": \"\", \"trace\": \"\"}}, \"*\")"
      ],
      "text/plain": [
       "<IPython.core.display.Javascript object>"
      ]
     },
     "metadata": {},
     "output_type": "display_data"
    },
    {
     "data": {
      "text/markdown": [
       "<span style=\"color:#ccaa33\">Check:</span> When you've updated the starter code, `check()` will tell you whether your code is correct. Remember, you must create the following variables: `option_one`, `option_four`, `option_three`, `option_two`"
      ],
      "text/plain": [
       "Check: When you've updated the starter code, `check()` will tell you whether your code is correct. Remember, you must create the following variables: `option_one`, `option_four`, `option_three`, `option_two`"
      ]
     },
     "metadata": {},
     "output_type": "display_data"
    }
   ],
   "source": [
    "# TODO: Use the get_expected_cost function to fill in each value\n",
    "#option_one = get_expected_cost(2,3)  \n",
    "#option_two =  get_expected_cost(3,2) \n",
    "#option_three = get_expected_cost(3,3)\n",
    "#option_four =  get_expected_cost(3,4)\n",
    "\n",
    "#print(option_one)\n",
    "#print(option_two)\n",
    "#print(option_three)\n",
    "#print(option_four)\n",
    "\n",
    "option_1 = get_expected_cost(2,3)\n",
    "option_2 = get_expected_cost(3,2)\n",
    "option_3 = get_expected_cost(3,3)\n",
    "option_4 = get_expected_cost(3,4)\n",
    " #Check your answer\n",
    "q2.check()"
   ]
  },
  {
   "cell_type": "code",
   "execution_count": 5,
   "id": "7caf9618",
   "metadata": {
    "execution": {
     "iopub.execute_input": "2023-02-11T19:41:00.779866Z",
     "iopub.status.busy": "2023-02-11T19:41:00.779449Z",
     "iopub.status.idle": "2023-02-11T19:41:00.783853Z",
     "shell.execute_reply": "2023-02-11T19:41:00.782676Z"
    },
    "papermill": {
     "duration": 0.015651,
     "end_time": "2023-02-11T19:41:00.786015",
     "exception": false,
     "start_time": "2023-02-11T19:41:00.770364",
     "status": "completed"
    },
    "tags": []
   },
   "outputs": [],
   "source": [
    "# Uncomment to see a hint\n",
    "#q2.hint()\n",
    "\n",
    "# Uncomment to view the solution\n",
    "#q2.solution()"
   ]
  },
  {
   "cell_type": "markdown",
   "id": "b2f421d1",
   "metadata": {
    "papermill": {
     "duration": 0.006917,
     "end_time": "2023-02-11T19:41:00.800175",
     "exception": false,
     "start_time": "2023-02-11T19:41:00.793258",
     "status": "completed"
    },
    "tags": []
   },
   "source": []
  },
  {
   "cell_type": "markdown",
   "id": "1875e24e",
   "metadata": {
    "papermill": {
     "duration": 0.006801,
     "end_time": "2023-02-11T19:41:00.814080",
     "exception": false,
     "start_time": "2023-02-11T19:41:00.807279",
     "status": "completed"
    },
    "tags": []
   },
   "source": []
  },
  {
   "cell_type": "markdown",
   "id": "9b3405bf",
   "metadata": {
    "papermill": {
     "duration": 0.006839,
     "end_time": "2023-02-11T19:41:00.827982",
     "exception": false,
     "start_time": "2023-02-11T19:41:00.821143",
     "status": "completed"
    },
    "tags": []
   },
   "source": []
  },
  {
   "cell_type": "markdown",
   "id": "b66a46e4",
   "metadata": {
    "papermill": {
     "duration": 0.006749,
     "end_time": "2023-02-11T19:41:00.842102",
     "exception": false,
     "start_time": "2023-02-11T19:41:00.835353",
     "status": "completed"
    },
    "tags": []
   },
   "source": [
    "# Question 3\n",
    "\n",
    "You're a home decorator, and you'd like to use Python to streamline some of your work.  Specifically, you're creating a tool that you intend to use to calculate the cost of painting a room.\n",
    "\n",
    "As a first step, define a function `get_cost()` that takes as input:\n",
    "- `sqft_walls` = total square feet of walls to be painted\n",
    "- `sqft_ceiling` = square feet of ceiling to be painted\n",
    "- `sqft_per_gallon` = number of square feet that you can cover with one gallon of paint\n",
    "- `cost_per_gallon` = cost (in dollars) of one gallon of paint\n",
    "\n",
    "It should return the cost (in dollars) of putting one coat of paint on all walls and the ceiling.  Assume you can buy the exact amount of paint that you need, so you can buy partial gallons (e.g., if you need 7.523 gallons, you can buy that exact amount, instead of needing to buy 8 gallons and waste some paint).  Do not round your answer."
   ]
  },
  {
   "cell_type": "code",
   "execution_count": 6,
   "id": "6634a0da",
   "metadata": {
    "execution": {
     "iopub.execute_input": "2023-02-11T19:41:00.858387Z",
     "iopub.status.busy": "2023-02-11T19:41:00.857942Z",
     "iopub.status.idle": "2023-02-11T19:41:00.868112Z",
     "shell.execute_reply": "2023-02-11T19:41:00.867183Z"
    },
    "papermill": {
     "duration": 0.021004,
     "end_time": "2023-02-11T19:41:00.870244",
     "exception": false,
     "start_time": "2023-02-11T19:41:00.849240",
     "status": "completed"
    },
    "tags": []
   },
   "outputs": [
    {
     "data": {
      "application/javascript": [
       "parent.postMessage({\"jupyterEvent\": \"custom.exercise_interaction\", \"data\": {\"outcomeType\": 1, \"valueTowardsCompletion\": 0.2, \"interactionType\": 1, \"questionType\": 2, \"questionId\": \"3_GetCostPaint\", \"learnToolsVersion\": \"0.3.4\", \"failureMessage\": \"\", \"exceptionClass\": \"\", \"trace\": \"\"}}, \"*\")"
      ],
      "text/plain": [
       "<IPython.core.display.Javascript object>"
      ]
     },
     "metadata": {},
     "output_type": "display_data"
    },
    {
     "data": {
      "text/markdown": [
       "<span style=\"color:#33cc33\">Correct</span>"
      ],
      "text/plain": [
       "Correct"
      ]
     },
     "metadata": {},
     "output_type": "display_data"
    }
   ],
   "source": [
    "# TODO: Finish defining the function\n",
    "def get_cost(sqft_walls, sqft_ceiling, sqft_per_gallon, cost_per_gallon):\n",
    "    cost = cost_per_gallon/sqft_per_gallon * (sqft_walls + sqft_ceiling)\n",
    "    #sqft_walls = 8\n",
    "    #sqft_ceiling = 5\n",
    "    #cost_per_gallon = $20\n",
    "    #sqft_per_gallon = 3\n",
    "    return cost\n",
    "\n",
    "# Check your answer\n",
    "q3.check()"
   ]
  },
  {
   "cell_type": "code",
   "execution_count": 7,
   "id": "e5a61fa7",
   "metadata": {
    "execution": {
     "iopub.execute_input": "2023-02-11T19:41:00.887052Z",
     "iopub.status.busy": "2023-02-11T19:41:00.886187Z",
     "iopub.status.idle": "2023-02-11T19:41:00.895431Z",
     "shell.execute_reply": "2023-02-11T19:41:00.894282Z"
    },
    "papermill": {
     "duration": 0.019985,
     "end_time": "2023-02-11T19:41:00.897669",
     "exception": false,
     "start_time": "2023-02-11T19:41:00.877684",
     "status": "completed"
    },
    "tags": []
   },
   "outputs": [
    {
     "data": {
      "application/javascript": [
       "parent.postMessage({\"jupyterEvent\": \"custom.exercise_interaction\", \"data\": {\"interactionType\": 2, \"questionType\": 2, \"questionId\": \"3_GetCostPaint\", \"learnToolsVersion\": \"0.3.4\", \"valueTowardsCompletion\": 0.0, \"failureMessage\": \"\", \"exceptionClass\": \"\", \"trace\": \"\", \"outcomeType\": 4}}, \"*\")"
      ],
      "text/plain": [
       "<IPython.core.display.Javascript object>"
      ]
     },
     "metadata": {},
     "output_type": "display_data"
    },
    {
     "data": {
      "text/markdown": [
       "<span style=\"color:#3366cc\">Hint:</span> Begin by calculating the total number of square feet that need to be painted. Then, based on that, figure out how many gallons you need.  Then, once you know how many gallons you need, you can calculate the total cost of the project."
      ],
      "text/plain": [
       "Hint: Begin by calculating the total number of square feet that need to be painted. Then, based on that, figure out how many gallons you need.  Then, once you know how many gallons you need, you can calculate the total cost of the project."
      ]
     },
     "metadata": {},
     "output_type": "display_data"
    }
   ],
   "source": [
    "# Uncomment to see a hint\n",
    "q3.hint()\n",
    "\n",
    "# Uncomment to view the solution\n",
    "#q3.solution()"
   ]
  },
  {
   "cell_type": "markdown",
   "id": "52a726ef",
   "metadata": {
    "papermill": {
     "duration": 0.007322,
     "end_time": "2023-02-11T19:41:00.912610",
     "exception": false,
     "start_time": "2023-02-11T19:41:00.905288",
     "status": "completed"
    },
    "tags": []
   },
   "source": [
    "# Question 4\n",
    "\n",
    "Use the `get_cost()` function you defined in Question 3 to calculate the cost of applying one coat of paint to a room with:\n",
    "- 432 square feet of walls, and\n",
    "- 144 square feet of ceiling.\n",
    "\n",
    "Assume that one gallon of paint covers 400 square feet and costs $15.  As in Question 3, assume you can buy partial gallons of paint.  Do not round your answer."
   ]
  },
  {
   "cell_type": "code",
   "execution_count": 8,
   "id": "fdccb56c",
   "metadata": {
    "execution": {
     "iopub.execute_input": "2023-02-11T19:41:00.929770Z",
     "iopub.status.busy": "2023-02-11T19:41:00.929393Z",
     "iopub.status.idle": "2023-02-11T19:41:00.940479Z",
     "shell.execute_reply": "2023-02-11T19:41:00.939255Z"
    },
    "papermill": {
     "duration": 0.022714,
     "end_time": "2023-02-11T19:41:00.942927",
     "exception": false,
     "start_time": "2023-02-11T19:41:00.920213",
     "status": "completed"
    },
    "tags": []
   },
   "outputs": [
    {
     "name": "stdout",
     "output_type": "stream",
     "text": [
      "the project cost for painting 432 sqft of walls, 144 sqft of ceilings \n",
      "      assuming that one gallon of paint covers 400 square feet and costs $15 \n",
      "      and assuming you can buy partial gallons of paint is $21.60\n"
     ]
    },
    {
     "data": {
      "application/javascript": [
       "parent.postMessage({\"jupyterEvent\": \"custom.exercise_interaction\", \"data\": {\"outcomeType\": 1, \"valueTowardsCompletion\": 0.2, \"interactionType\": 1, \"questionType\": 1, \"questionId\": \"4_GetCostPaintExample\", \"learnToolsVersion\": \"0.3.4\", \"failureMessage\": \"\", \"exceptionClass\": \"\", \"trace\": \"\"}}, \"*\")"
      ],
      "text/plain": [
       "<IPython.core.display.Javascript object>"
      ]
     },
     "metadata": {},
     "output_type": "display_data"
    },
    {
     "data": {
      "text/markdown": [
       "<span style=\"color:#33cc33\">Correct</span>"
      ],
      "text/plain": [
       "Correct"
      ]
     },
     "metadata": {},
     "output_type": "display_data"
    }
   ],
   "source": [
    "# TODO: Set the project_cost variable to the cost of the project\n",
    "project_cost = get_cost(432,144, 400, 15)\n",
    "print('''the project cost for painting 432 sqft of walls, 144 sqft of ceilings \n",
    "      assuming that one gallon of paint covers 400 square feet and costs $15 \n",
    "      and assuming you can buy partial gallons of paint is ${:.2f}'''.format(project_cost))\n",
    "    \n",
    "# Check your answer\n",
    "q4.check()"
   ]
  },
  {
   "cell_type": "code",
   "execution_count": 9,
   "id": "37f4b02b",
   "metadata": {
    "execution": {
     "iopub.execute_input": "2023-02-11T19:41:00.960381Z",
     "iopub.status.busy": "2023-02-11T19:41:00.959971Z",
     "iopub.status.idle": "2023-02-11T19:41:00.965250Z",
     "shell.execute_reply": "2023-02-11T19:41:00.964192Z"
    },
    "papermill": {
     "duration": 0.017618,
     "end_time": "2023-02-11T19:41:00.968388",
     "exception": false,
     "start_time": "2023-02-11T19:41:00.950770",
     "status": "completed"
    },
    "tags": []
   },
   "outputs": [
    {
     "name": "stdout",
     "output_type": "stream",
     "text": [
      "the project cost for painting 432 sqft of walls, 144 sqft of ceilings \n",
      "      assuming that one gallon of paint covers 400 square feet and costs $15 \n",
      "      and assuming you can buy partial gallons of paint is $21.60\n"
     ]
    }
   ],
   "source": [
    "print(f'''the project cost for painting 432 sqft of walls, 144 sqft of ceilings \n",
    "      assuming that one gallon of paint covers 400 square feet and costs $15 \n",
    "      and assuming you can buy partial gallons of paint is ${project_cost:.2f}''')"
   ]
  },
  {
   "cell_type": "code",
   "execution_count": 10,
   "id": "393ec728",
   "metadata": {
    "execution": {
     "iopub.execute_input": "2023-02-11T19:41:00.987210Z",
     "iopub.status.busy": "2023-02-11T19:41:00.986821Z",
     "iopub.status.idle": "2023-02-11T19:41:00.993690Z",
     "shell.execute_reply": "2023-02-11T19:41:00.992385Z"
    },
    "papermill": {
     "duration": 0.018798,
     "end_time": "2023-02-11T19:41:00.996303",
     "exception": false,
     "start_time": "2023-02-11T19:41:00.977505",
     "status": "completed"
    },
    "tags": []
   },
   "outputs": [
    {
     "data": {
      "text/plain": [
       "22"
      ]
     },
     "execution_count": 10,
     "metadata": {},
     "output_type": "execute_result"
    }
   ],
   "source": [
    "math.ceil(project_cost)"
   ]
  },
  {
   "cell_type": "code",
   "execution_count": 11,
   "id": "08f07b3d",
   "metadata": {
    "execution": {
     "iopub.execute_input": "2023-02-11T19:41:01.014362Z",
     "iopub.status.busy": "2023-02-11T19:41:01.013966Z",
     "iopub.status.idle": "2023-02-11T19:41:01.018464Z",
     "shell.execute_reply": "2023-02-11T19:41:01.017259Z"
    },
    "papermill": {
     "duration": 0.016253,
     "end_time": "2023-02-11T19:41:01.020670",
     "exception": false,
     "start_time": "2023-02-11T19:41:01.004417",
     "status": "completed"
    },
    "tags": []
   },
   "outputs": [],
   "source": [
    "# Uncomment to see a hint\n",
    "#q4.hint()\n",
    "\n",
    "# Uncomment to view the solution\n",
    "#q4.solution()"
   ]
  },
  {
   "cell_type": "markdown",
   "id": "a1eea3a6",
   "metadata": {
    "papermill": {
     "duration": 0.008102,
     "end_time": "2023-02-11T19:41:01.037011",
     "exception": false,
     "start_time": "2023-02-11T19:41:01.028909",
     "status": "completed"
    },
    "tags": []
   },
   "source": [
    "# 🌶️ Question 5\n",
    "\n",
    "Now say you can no longer buy fractions of a gallon.  (For instance, if you need 4.3 gallons to do a project, then you have to buy 5 gallons of paint.)\n",
    "\n",
    "With this new scenario, you will create a new function `get_actual_cost` that uses the same inputs and calculates the cost of your project.\n",
    "\n",
    "One function that you'll need to use to do this is `math.ceil()`.  We demonstrate usage of this function in the code cell below.  It takes as a number as input and rounds the number up to the nearest integer.  \n",
    "\n",
    "Run the next code cell to test this function for yourself.  Feel free to change the value of `test_value` and make sure `math.ceil()` returns the number you expect."
   ]
  },
  {
   "cell_type": "code",
   "execution_count": 12,
   "id": "475f62cc",
   "metadata": {
    "execution": {
     "iopub.execute_input": "2023-02-11T19:41:01.055293Z",
     "iopub.status.busy": "2023-02-11T19:41:01.054858Z",
     "iopub.status.idle": "2023-02-11T19:41:01.060567Z",
     "shell.execute_reply": "2023-02-11T19:41:01.059504Z"
    },
    "papermill": {
     "duration": 0.01794,
     "end_time": "2023-02-11T19:41:01.063161",
     "exception": false,
     "start_time": "2023-02-11T19:41:01.045221",
     "status": "completed"
    },
    "tags": []
   },
   "outputs": [
    {
     "name": "stdout",
     "output_type": "stream",
     "text": [
      "3\n"
     ]
    }
   ],
   "source": [
    "test_value = 2.17\n",
    "\n",
    "rounded_value = math.ceil(test_value)\n",
    "print(rounded_value)"
   ]
  },
  {
   "cell_type": "markdown",
   "id": "c806e50e",
   "metadata": {
    "papermill": {
     "duration": 0.008087,
     "end_time": "2023-02-11T19:41:01.079533",
     "exception": false,
     "start_time": "2023-02-11T19:41:01.071446",
     "status": "completed"
    },
    "tags": []
   },
   "source": [
    "Use the next code cell to define the function `get_actual_cost()`.  You'll need to use the `math.ceil()` function to do this.\n",
    "\n",
    "When answering this question, note that it's completely valid to define a function that makes use of another function.  For instance, we can define a function `round_up_and_divide_by_three` that makes use of the `math.ceil` function:\n",
    "```\n",
    "def round_up_and_divide_by_three(num):\n",
    "    new_value = math.ceil(num)\n",
    "    final_value = new_value / 3\n",
    "    return final_value\n",
    "```"
   ]
  },
  {
   "cell_type": "code",
   "execution_count": 13,
   "id": "71e7b4a0",
   "metadata": {
    "execution": {
     "iopub.execute_input": "2023-02-11T19:41:01.098072Z",
     "iopub.status.busy": "2023-02-11T19:41:01.097171Z",
     "iopub.status.idle": "2023-02-11T19:41:01.106237Z",
     "shell.execute_reply": "2023-02-11T19:41:01.105273Z"
    },
    "papermill": {
     "duration": 0.020507,
     "end_time": "2023-02-11T19:41:01.108276",
     "exception": false,
     "start_time": "2023-02-11T19:41:01.087769",
     "status": "completed"
    },
    "tags": []
   },
   "outputs": [
    {
     "data": {
      "application/javascript": [
       "parent.postMessage({\"jupyterEvent\": \"custom.exercise_interaction\", \"data\": {\"outcomeType\": 1, \"valueTowardsCompletion\": 0.2, \"interactionType\": 1, \"questionType\": 2, \"questionId\": \"5_NoMoreFractions\", \"learnToolsVersion\": \"0.3.4\", \"failureMessage\": \"\", \"exceptionClass\": \"\", \"trace\": \"\"}}, \"*\")"
      ],
      "text/plain": [
       "<IPython.core.display.Javascript object>"
      ]
     },
     "metadata": {},
     "output_type": "display_data"
    },
    {
     "data": {
      "text/markdown": [
       "<span style=\"color:#33cc33\">Correct</span>"
      ],
      "text/plain": [
       "Correct"
      ]
     },
     "metadata": {},
     "output_type": "display_data"
    }
   ],
   "source": [
    "def get_actual_cost(sqft_walls, sqft_ceiling, sqft_per_gallon, cost_per_gallon):\n",
    "    cost =cost_per_gallon* math.ceil((sqft_walls+sqft_ceiling)/sqft_per_gallon)\n",
    "    return cost\n",
    "\n",
    "# Check your answer\n",
    "q5.check()"
   ]
  },
  {
   "cell_type": "code",
   "execution_count": 14,
   "id": "ee4ae431",
   "metadata": {
    "execution": {
     "iopub.execute_input": "2023-02-11T19:41:01.127060Z",
     "iopub.status.busy": "2023-02-11T19:41:01.126686Z",
     "iopub.status.idle": "2023-02-11T19:41:01.130728Z",
     "shell.execute_reply": "2023-02-11T19:41:01.129820Z"
    },
    "papermill": {
     "duration": 0.016157,
     "end_time": "2023-02-11T19:41:01.132947",
     "exception": false,
     "start_time": "2023-02-11T19:41:01.116790",
     "status": "completed"
    },
    "tags": []
   },
   "outputs": [],
   "source": [
    "# Uncomment to see a hint\n",
    "#q5.hint()\n",
    "\n",
    "# Uncomment to view the solution\n",
    "#q5.solution()"
   ]
  },
  {
   "cell_type": "markdown",
   "id": "e8466fd1",
   "metadata": {
    "papermill": {
     "duration": 0.0086,
     "end_time": "2023-02-11T19:41:01.150510",
     "exception": false,
     "start_time": "2023-02-11T19:41:01.141910",
     "status": "completed"
    },
    "tags": []
   },
   "source": [
    "Once your function is verified as correct, run the next code cell to calculate the updated cost of your project."
   ]
  },
  {
   "cell_type": "code",
   "execution_count": 15,
   "id": "7ea1559d",
   "metadata": {
    "execution": {
     "iopub.execute_input": "2023-02-11T19:41:01.170604Z",
     "iopub.status.busy": "2023-02-11T19:41:01.169814Z",
     "iopub.status.idle": "2023-02-11T19:41:01.178744Z",
     "shell.execute_reply": "2023-02-11T19:41:01.177287Z"
    },
    "papermill": {
     "duration": 0.021488,
     "end_time": "2023-02-11T19:41:01.181006",
     "exception": false,
     "start_time": "2023-02-11T19:41:01.159518",
     "status": "completed"
    },
    "tags": []
   },
   "outputs": [
    {
     "data": {
      "text/plain": [
       "30"
      ]
     },
     "execution_count": 15,
     "metadata": {},
     "output_type": "execute_result"
    }
   ],
   "source": [
    "get_actual_cost(432, 144, 400, 15) "
   ]
  },
  {
   "cell_type": "markdown",
   "id": "9e82f225",
   "metadata": {
    "papermill": {
     "duration": 0.008379,
     "end_time": "2023-02-11T19:41:01.198254",
     "exception": false,
     "start_time": "2023-02-11T19:41:01.189875",
     "status": "completed"
    },
    "tags": []
   },
   "source": [
    "Say you're working with a slightly larger room.  Run the next code cell to calculate the cost of the project."
   ]
  },
  {
   "cell_type": "code",
   "execution_count": 16,
   "id": "edafdef1",
   "metadata": {
    "execution": {
     "iopub.execute_input": "2023-02-11T19:41:01.218062Z",
     "iopub.status.busy": "2023-02-11T19:41:01.217316Z",
     "iopub.status.idle": "2023-02-11T19:41:01.223118Z",
     "shell.execute_reply": "2023-02-11T19:41:01.222356Z"
    },
    "papermill": {
     "duration": 0.018258,
     "end_time": "2023-02-11T19:41:01.225202",
     "exception": false,
     "start_time": "2023-02-11T19:41:01.206944",
     "status": "completed"
    },
    "tags": []
   },
   "outputs": [
    {
     "data": {
      "text/plain": [
       "45"
      ]
     },
     "execution_count": 16,
     "metadata": {},
     "output_type": "execute_result"
    }
   ],
   "source": [
    "get_actual_cost(594, 288, 400, 15) "
   ]
  },
  {
   "cell_type": "markdown",
   "id": "36102037",
   "metadata": {
    "papermill": {
     "duration": 0.008348,
     "end_time": "2023-02-11T19:41:01.242256",
     "exception": false,
     "start_time": "2023-02-11T19:41:01.233908",
     "status": "completed"
    },
    "tags": []
   },
   "source": [
    "# Keep going\n",
    "\n",
    "Continue to learn about **[data types](https://www.kaggle.com/alexisbcook/data-types)**."
   ]
  },
  {
   "cell_type": "markdown",
   "id": "52abd944",
   "metadata": {
    "papermill": {
     "duration": 0.008354,
     "end_time": "2023-02-11T19:41:01.259406",
     "exception": false,
     "start_time": "2023-02-11T19:41:01.251052",
     "status": "completed"
    },
    "tags": []
   },
   "source": [
    "---\n",
    "\n",
    "\n",
    "\n",
    "\n",
    "*Have questions or comments? Visit the [course discussion forum](https://www.kaggle.com/learn/intro-to-programming/discussion) to chat with other learners.*"
   ]
  }
 ],
 "metadata": {
  "kernelspec": {
   "display_name": "Python 3",
   "language": "python",
   "name": "python3"
  },
  "language_info": {
   "codemirror_mode": {
    "name": "ipython",
    "version": 3
   },
   "file_extension": ".py",
   "mimetype": "text/x-python",
   "name": "python",
   "nbconvert_exporter": "python",
   "pygments_lexer": "ipython3",
   "version": "3.7.12"
  },
  "papermill": {
   "default_parameters": {},
   "duration": 9.614215,
   "end_time": "2023-02-11T19:41:01.888326",
   "environment_variables": {},
   "exception": null,
   "input_path": "__notebook__.ipynb",
   "output_path": "__notebook__.ipynb",
   "parameters": {},
   "start_time": "2023-02-11T19:40:52.274111",
   "version": "2.3.4"
  }
 },
 "nbformat": 4,
 "nbformat_minor": 5
}
