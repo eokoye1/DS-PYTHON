{
 "cells": [
  {
   "cell_type": "markdown",
   "id": "0bf02705",
   "metadata": {
    "papermill": {
     "duration": 0.007875,
     "end_time": "2023-02-11T18:36:22.319865",
     "exception": false,
     "start_time": "2023-02-11T18:36:22.311990",
     "status": "completed"
    },
    "tags": []
   },
   "source": [
    "**This notebook is an exercise in the [Intro to Programming](https://www.kaggle.com/learn/intro-to-programming) course.  You can reference the tutorial at [this link](https://www.kaggle.com/alexisbcook/functions).**\n",
    "\n",
    "---\n"
   ]
  },
  {
   "cell_type": "markdown",
   "id": "b5371ae1",
   "metadata": {
    "papermill": {
     "duration": 0.006212,
     "end_time": "2023-02-11T18:36:22.332753",
     "exception": false,
     "start_time": "2023-02-11T18:36:22.326541",
     "status": "completed"
    },
    "tags": []
   },
   "source": [
    "In the tutorial, you learned about functions. In this exercise, you'll write some of your own!\n",
    "\n",
    "# Set up the notebook\n",
    "\n",
    "Run the next code cell without changes to set up the notebook."
   ]
  },
  {
   "cell_type": "code",
   "execution_count": 1,
   "id": "ed75fe5b",
   "metadata": {
    "execution": {
     "iopub.execute_input": "2023-02-11T18:36:22.348126Z",
     "iopub.status.busy": "2023-02-11T18:36:22.347478Z",
     "iopub.status.idle": "2023-02-11T18:36:22.409615Z",
     "shell.execute_reply": "2023-02-11T18:36:22.408653Z"
    },
    "papermill": {
     "duration": 0.073139,
     "end_time": "2023-02-11T18:36:22.412298",
     "exception": false,
     "start_time": "2023-02-11T18:36:22.339159",
     "status": "completed"
    },
    "tags": []
   },
   "outputs": [
    {
     "name": "stdout",
     "output_type": "stream",
     "text": [
      "Setup complete.\n"
     ]
    }
   ],
   "source": [
    "# Set up the exercise\n",
    "import math\n",
    "from learntools.core import binder\n",
    "binder.bind(globals())\n",
    "from learntools.intro_to_programming.ex2 import *\n",
    "print('Setup complete.')"
   ]
  },
  {
   "cell_type": "markdown",
   "id": "b568846a",
   "metadata": {
    "papermill": {
     "duration": 0.006161,
     "end_time": "2023-02-11T18:36:22.425022",
     "exception": false,
     "start_time": "2023-02-11T18:36:22.418861",
     "status": "completed"
    },
    "tags": []
   },
   "source": [
    "# Question 1\n",
    "\n",
    "In the [House Prices - Advanced Regression Techniques competition](https://www.kaggle.com/c/house-prices-advanced-regression-techniques/overview), you need to use information like the number of bedrooms and bathrooms to predict the price of a house.  Inspired by this competition, you'll write your own function to do this.\n",
    "\n",
    "In the next code cell, create a function `get_expected_cost()` that has two arguments:\n",
    "- `beds` - number of bedrooms \n",
    "- `baths` - number of bathrooms\n",
    "\n",
    "It should return the expected cost of a house with that number of bedrooms and bathrooms.  Assume that:\n",
    "- the expected cost for a house with 0 bedrooms and 0 bathrooms is `80000`.  \n",
    "- each bedroom adds `30000` to the expected cost\n",
    "- each bathroom adds `10000` to the expected cost.\n",
    "\n",
    "For instance, \n",
    "- a house with 1 bedroom and 1 bathroom has an expected cost of `120000`, and \n",
    "- a house with 2 bedrooms and 1 bathroom has an expected cost of `150000`."
   ]
  },
  {
   "cell_type": "code",
   "execution_count": 2,
   "id": "b74a1fc1",
   "metadata": {
    "execution": {
     "iopub.execute_input": "2023-02-11T18:36:22.439699Z",
     "iopub.status.busy": "2023-02-11T18:36:22.439259Z",
     "iopub.status.idle": "2023-02-11T18:36:22.451008Z",
     "shell.execute_reply": "2023-02-11T18:36:22.449875Z"
    },
    "papermill": {
     "duration": 0.021947,
     "end_time": "2023-02-11T18:36:22.453416",
     "exception": false,
     "start_time": "2023-02-11T18:36:22.431469",
     "status": "completed"
    },
    "tags": []
   },
   "outputs": [
    {
     "data": {
      "application/javascript": [
       "parent.postMessage({\"jupyterEvent\": \"custom.exercise_interaction\", \"data\": {\"outcomeType\": 1, \"valueTowardsCompletion\": 0.2, \"interactionType\": 1, \"questionType\": 2, \"questionId\": \"1_GetExpectedCost\", \"learnToolsVersion\": \"0.3.4\", \"failureMessage\": \"\", \"exceptionClass\": \"\", \"trace\": \"\"}}, \"*\")"
      ],
      "text/plain": [
       "<IPython.core.display.Javascript object>"
      ]
     },
     "metadata": {},
     "output_type": "display_data"
    },
    {
     "data": {
      "text/markdown": [
       "<span style=\"color:#33cc33\">Correct</span>"
      ],
      "text/plain": [
       "Correct"
      ]
     },
     "metadata": {},
     "output_type": "display_data"
    }
   ],
   "source": [
    "# TODO: Complete the function\n",
    "def get_expected_cost(beds, baths):\n",
    "    value = 80000+30000 * beds + 10000 * baths\n",
    "    #print(\"result from the first function is \", value)\n",
    "    return value\n",
    "\n",
    "\n",
    "# Check your answer \n",
    "q1.check()"
   ]
  },
  {
   "cell_type": "code",
   "execution_count": 3,
   "id": "6795d734",
   "metadata": {
    "execution": {
     "iopub.execute_input": "2023-02-11T18:36:22.469250Z",
     "iopub.status.busy": "2023-02-11T18:36:22.468385Z",
     "iopub.status.idle": "2023-02-11T18:36:22.474899Z",
     "shell.execute_reply": "2023-02-11T18:36:22.473814Z"
    },
    "papermill": {
     "duration": 0.01718,
     "end_time": "2023-02-11T18:36:22.477555",
     "exception": false,
     "start_time": "2023-02-11T18:36:22.460375",
     "status": "completed"
    },
    "tags": []
   },
   "outputs": [
    {
     "name": "stdout",
     "output_type": "stream",
     "text": [
      "the expected cost of 2beds and 1 bath is 150000\n",
      "the expected cost of 3beds and 3 bath is 200000\n"
     ]
    }
   ],
   "source": [
    " print(\"the expected cost of 2beds and 1 bath is\", get_expected_cost(2,1))\n",
    " print(\"the expected cost of 3beds and 3 bath is\", get_expected_cost(3,3))   "
   ]
  },
  {
   "cell_type": "markdown",
   "id": "55604a19",
   "metadata": {
    "papermill": {
     "duration": 0.006747,
     "end_time": "2023-02-11T18:36:22.491461",
     "exception": false,
     "start_time": "2023-02-11T18:36:22.484714",
     "status": "completed"
    },
    "tags": []
   },
   "source": [
    "# Question 2\n",
    "\n",
    "You are thinking about buying a home and want to get an idea of how much you will spend, based on the number of bedrooms and bathrooms.  You are trying to decide between four different options:\n",
    "- Option 1: house with two bedrooms and three bathrooms\n",
    "- Option 2: house with three bedrooms and two bathrooms\n",
    "- Option 3: house with three bedrooms and three bathrooms\n",
    "- Option 4: house with three bedrooms and four bathrooms\n",
    "\n",
    "Use the `get_expected_cost()` function you defined in question 1 to set `option_1`, `option_2`, `option_3`, and `option_4` to the expected cost of each option."
   ]
  },
  {
   "cell_type": "code",
   "execution_count": 4,
   "id": "044089f0",
   "metadata": {
    "execution": {
     "iopub.execute_input": "2023-02-11T18:36:22.507018Z",
     "iopub.status.busy": "2023-02-11T18:36:22.506613Z",
     "iopub.status.idle": "2023-02-11T18:36:22.517265Z",
     "shell.execute_reply": "2023-02-11T18:36:22.516064Z"
    },
    "papermill": {
     "duration": 0.021189,
     "end_time": "2023-02-11T18:36:22.519499",
     "exception": false,
     "start_time": "2023-02-11T18:36:22.498310",
     "status": "completed"
    },
    "tags": []
   },
   "outputs": [
    {
     "data": {
      "application/javascript": [
       "parent.postMessage({\"jupyterEvent\": \"custom.exercise_interaction\", \"data\": {\"outcomeType\": 4, \"interactionType\": 1, \"questionType\": 1, \"questionId\": \"2_RunGetExpectedCost\", \"learnToolsVersion\": \"0.3.4\", \"valueTowardsCompletion\": 0.0, \"failureMessage\": \"\", \"exceptionClass\": \"\", \"trace\": \"\"}}, \"*\")"
      ],
      "text/plain": [
       "<IPython.core.display.Javascript object>"
      ]
     },
     "metadata": {},
     "output_type": "display_data"
    },
    {
     "data": {
      "text/markdown": [
       "<span style=\"color:#ccaa33\">Check:</span> When you've updated the starter code, `check()` will tell you whether your code is correct. Remember, you must create the following variables: `option_four`, `option_one`, `option_three`, `option_two`"
      ],
      "text/plain": [
       "Check: When you've updated the starter code, `check()` will tell you whether your code is correct. Remember, you must create the following variables: `option_four`, `option_one`, `option_three`, `option_two`"
      ]
     },
     "metadata": {},
     "output_type": "display_data"
    }
   ],
   "source": [
    "# TODO: Use the get_expected_cost function to fill in each value\n",
    "#option_one = get_expected_cost(2,3)  \n",
    "#option_two =  get_expected_cost(3,2) \n",
    "#option_three = get_expected_cost(3,3)\n",
    "#option_four =  get_expected_cost(3,4)\n",
    "\n",
    "#print(option_one)\n",
    "#print(option_two)\n",
    "#print(option_three)\n",
    "#print(option_four)\n",
    "\n",
    "option_1 = get_expected_cost(2,3)\n",
    "option_2 = get_expected_cost(3,2)\n",
    "option_3 = get_expected_cost(3,3)\n",
    "option_4 = get_expected_cost(3,4)\n",
    " #Check your answer\n",
    "q2.check()"
   ]
  },
  {
   "cell_type": "code",
   "execution_count": 5,
   "id": "27222faf",
   "metadata": {
    "execution": {
     "iopub.execute_input": "2023-02-11T18:36:22.535314Z",
     "iopub.status.busy": "2023-02-11T18:36:22.534642Z",
     "iopub.status.idle": "2023-02-11T18:36:22.539726Z",
     "shell.execute_reply": "2023-02-11T18:36:22.538235Z"
    },
    "papermill": {
     "duration": 0.015415,
     "end_time": "2023-02-11T18:36:22.541946",
     "exception": false,
     "start_time": "2023-02-11T18:36:22.526531",
     "status": "completed"
    },
    "tags": []
   },
   "outputs": [],
   "source": [
    "# Uncomment to see a hint\n",
    "#q2.hint()\n",
    "\n",
    "# Uncomment to view the solution\n",
    "#q2.solution()"
   ]
  },
  {
   "cell_type": "markdown",
   "id": "6c772072",
   "metadata": {
    "papermill": {
     "duration": 0.007727,
     "end_time": "2023-02-11T18:36:22.556634",
     "exception": false,
     "start_time": "2023-02-11T18:36:22.548907",
     "status": "completed"
    },
    "tags": []
   },
   "source": []
  },
  {
   "cell_type": "markdown",
   "id": "7185c9fa",
   "metadata": {
    "papermill": {
     "duration": 0.006671,
     "end_time": "2023-02-11T18:36:22.570264",
     "exception": false,
     "start_time": "2023-02-11T18:36:22.563593",
     "status": "completed"
    },
    "tags": []
   },
   "source": []
  },
  {
   "cell_type": "markdown",
   "id": "d6d76ece",
   "metadata": {
    "papermill": {
     "duration": 0.006735,
     "end_time": "2023-02-11T18:36:22.583961",
     "exception": false,
     "start_time": "2023-02-11T18:36:22.577226",
     "status": "completed"
    },
    "tags": []
   },
   "source": []
  },
  {
   "cell_type": "markdown",
   "id": "fc47f197",
   "metadata": {
    "papermill": {
     "duration": 0.006658,
     "end_time": "2023-02-11T18:36:22.597606",
     "exception": false,
     "start_time": "2023-02-11T18:36:22.590948",
     "status": "completed"
    },
    "tags": []
   },
   "source": [
    "# Question 3\n",
    "\n",
    "You're a home decorator, and you'd like to use Python to streamline some of your work.  Specifically, you're creating a tool that you intend to use to calculate the cost of painting a room.\n",
    "\n",
    "As a first step, define a function `get_cost()` that takes as input:\n",
    "- `sqft_walls` = total square feet of walls to be painted\n",
    "- `sqft_ceiling` = square feet of ceiling to be painted\n",
    "- `sqft_per_gallon` = number of square feet that you can cover with one gallon of paint\n",
    "- `cost_per_gallon` = cost (in dollars) of one gallon of paint\n",
    "\n",
    "It should return the cost (in dollars) of putting one coat of paint on all walls and the ceiling.  Assume you can buy the exact amount of paint that you need, so you can buy partial gallons (e.g., if you need 7.523 gallons, you can buy that exact amount, instead of needing to buy 8 gallons and waste some paint).  Do not round your answer."
   ]
  },
  {
   "cell_type": "code",
   "execution_count": 6,
   "id": "698aa473",
   "metadata": {
    "execution": {
     "iopub.execute_input": "2023-02-11T18:36:22.613685Z",
     "iopub.status.busy": "2023-02-11T18:36:22.613258Z",
     "iopub.status.idle": "2023-02-11T18:36:22.622618Z",
     "shell.execute_reply": "2023-02-11T18:36:22.621519Z"
    },
    "papermill": {
     "duration": 0.020134,
     "end_time": "2023-02-11T18:36:22.624782",
     "exception": false,
     "start_time": "2023-02-11T18:36:22.604648",
     "status": "completed"
    },
    "tags": []
   },
   "outputs": [
    {
     "data": {
      "application/javascript": [
       "parent.postMessage({\"jupyterEvent\": \"custom.exercise_interaction\", \"data\": {\"outcomeType\": 1, \"valueTowardsCompletion\": 0.2, \"interactionType\": 1, \"questionType\": 2, \"questionId\": \"3_GetCostPaint\", \"learnToolsVersion\": \"0.3.4\", \"failureMessage\": \"\", \"exceptionClass\": \"\", \"trace\": \"\"}}, \"*\")"
      ],
      "text/plain": [
       "<IPython.core.display.Javascript object>"
      ]
     },
     "metadata": {},
     "output_type": "display_data"
    },
    {
     "data": {
      "text/markdown": [
       "<span style=\"color:#33cc33\">Correct</span>"
      ],
      "text/plain": [
       "Correct"
      ]
     },
     "metadata": {},
     "output_type": "display_data"
    }
   ],
   "source": [
    "# TODO: Finish defining the function\n",
    "def get_cost(sqft_walls, sqft_ceiling, sqft_per_gallon, cost_per_gallon):\n",
    "    cost = cost_per_gallon/sqft_per_gallon * (sqft_walls + sqft_ceiling)\n",
    "    #sqft_walls = 8\n",
    "    #sqft_ceiling = 5\n",
    "    #cost_per_gallon = $20\n",
    "    #sqft_per_gallon = 3\n",
    "    return cost\n",
    "\n",
    "# Check your answer\n",
    "q3.check()"
   ]
  },
  {
   "cell_type": "code",
   "execution_count": 7,
   "id": "0f7be993",
   "metadata": {
    "execution": {
     "iopub.execute_input": "2023-02-11T18:36:22.641039Z",
     "iopub.status.busy": "2023-02-11T18:36:22.640643Z",
     "iopub.status.idle": "2023-02-11T18:36:22.649192Z",
     "shell.execute_reply": "2023-02-11T18:36:22.648130Z"
    },
    "papermill": {
     "duration": 0.019604,
     "end_time": "2023-02-11T18:36:22.651546",
     "exception": false,
     "start_time": "2023-02-11T18:36:22.631942",
     "status": "completed"
    },
    "tags": []
   },
   "outputs": [
    {
     "data": {
      "application/javascript": [
       "parent.postMessage({\"jupyterEvent\": \"custom.exercise_interaction\", \"data\": {\"interactionType\": 2, \"questionType\": 2, \"questionId\": \"3_GetCostPaint\", \"learnToolsVersion\": \"0.3.4\", \"valueTowardsCompletion\": 0.0, \"failureMessage\": \"\", \"exceptionClass\": \"\", \"trace\": \"\", \"outcomeType\": 4}}, \"*\")"
      ],
      "text/plain": [
       "<IPython.core.display.Javascript object>"
      ]
     },
     "metadata": {},
     "output_type": "display_data"
    },
    {
     "data": {
      "text/markdown": [
       "<span style=\"color:#3366cc\">Hint:</span> Begin by calculating the total number of square feet that need to be painted. Then, based on that, figure out how many gallons you need.  Then, once you know how many gallons you need, you can calculate the total cost of the project."
      ],
      "text/plain": [
       "Hint: Begin by calculating the total number of square feet that need to be painted. Then, based on that, figure out how many gallons you need.  Then, once you know how many gallons you need, you can calculate the total cost of the project."
      ]
     },
     "metadata": {},
     "output_type": "display_data"
    }
   ],
   "source": [
    "# Uncomment to see a hint\n",
    "q3.hint()\n",
    "\n",
    "# Uncomment to view the solution\n",
    "#q3.solution()"
   ]
  },
  {
   "cell_type": "markdown",
   "id": "d6984864",
   "metadata": {
    "papermill": {
     "duration": 0.007387,
     "end_time": "2023-02-11T18:36:22.666853",
     "exception": false,
     "start_time": "2023-02-11T18:36:22.659466",
     "status": "completed"
    },
    "tags": []
   },
   "source": [
    "# Question 4\n",
    "\n",
    "Use the `get_cost()` function you defined in Question 3 to calculate the cost of applying one coat of paint to a room with:\n",
    "- 432 square feet of walls, and\n",
    "- 144 square feet of ceiling.\n",
    "\n",
    "Assume that one gallon of paint covers 400 square feet and costs $15.  As in Question 3, assume you can buy partial gallons of paint.  Do not round your answer."
   ]
  },
  {
   "cell_type": "code",
   "execution_count": 8,
   "id": "cb77ede4",
   "metadata": {
    "execution": {
     "iopub.execute_input": "2023-02-11T18:36:22.683544Z",
     "iopub.status.busy": "2023-02-11T18:36:22.683160Z",
     "iopub.status.idle": "2023-02-11T18:36:22.694713Z",
     "shell.execute_reply": "2023-02-11T18:36:22.693123Z"
    },
    "papermill": {
     "duration": 0.022885,
     "end_time": "2023-02-11T18:36:22.697253",
     "exception": false,
     "start_time": "2023-02-11T18:36:22.674368",
     "status": "completed"
    },
    "tags": []
   },
   "outputs": [
    {
     "name": "stdout",
     "output_type": "stream",
     "text": [
      "the project cost for painting 432 sqft of walls, 144 sqft of ceilings \n",
      "      assuming that one gallon of paint covers 400 square feet and costs $15 \n",
      "      and assuming you can buy partial gallons of paint is $21.60\n"
     ]
    },
    {
     "data": {
      "application/javascript": [
       "parent.postMessage({\"jupyterEvent\": \"custom.exercise_interaction\", \"data\": {\"outcomeType\": 1, \"valueTowardsCompletion\": 0.2, \"interactionType\": 1, \"questionType\": 1, \"questionId\": \"4_GetCostPaintExample\", \"learnToolsVersion\": \"0.3.4\", \"failureMessage\": \"\", \"exceptionClass\": \"\", \"trace\": \"\"}}, \"*\")"
      ],
      "text/plain": [
       "<IPython.core.display.Javascript object>"
      ]
     },
     "metadata": {},
     "output_type": "display_data"
    },
    {
     "data": {
      "text/markdown": [
       "<span style=\"color:#33cc33\">Correct</span>"
      ],
      "text/plain": [
       "Correct"
      ]
     },
     "metadata": {},
     "output_type": "display_data"
    }
   ],
   "source": [
    "# TODO: Set the project_cost variable to the cost of the project\n",
    "project_cost = get_cost(432,144, 400, 15)\n",
    "print('''the project cost for painting 432 sqft of walls, 144 sqft of ceilings \n",
    "      assuming that one gallon of paint covers 400 square feet and costs $15 \n",
    "      and assuming you can buy partial gallons of paint is ${:.2f}'''.format(project_cost))\n",
    "    \n",
    "# Check your answer\n",
    "q4.check()"
   ]
  },
  {
   "cell_type": "code",
   "execution_count": 9,
   "id": "f7a8ed8d",
   "metadata": {
    "execution": {
     "iopub.execute_input": "2023-02-11T18:36:22.714333Z",
     "iopub.status.busy": "2023-02-11T18:36:22.713911Z",
     "iopub.status.idle": "2023-02-11T18:36:22.719028Z",
     "shell.execute_reply": "2023-02-11T18:36:22.718273Z"
    },
    "papermill": {
     "duration": 0.016945,
     "end_time": "2023-02-11T18:36:22.721999",
     "exception": false,
     "start_time": "2023-02-11T18:36:22.705054",
     "status": "completed"
    },
    "tags": []
   },
   "outputs": [
    {
     "name": "stdout",
     "output_type": "stream",
     "text": [
      "the project cost for painting 432 sqft of walls, 144 sqft of ceilings \n",
      "      assuming that one gallon of paint covers 400 square feet and costs $15 \n",
      "      and assuming you can buy partial gallons of paint is $21.60\n"
     ]
    }
   ],
   "source": [
    "print(f'''the project cost for painting 432 sqft of walls, 144 sqft of ceilings \n",
    "      assuming that one gallon of paint covers 400 square feet and costs $15 \n",
    "      and assuming you can buy partial gallons of paint is ${project_cost:.2f}''')"
   ]
  },
  {
   "cell_type": "code",
   "execution_count": 10,
   "id": "86488cd5",
   "metadata": {
    "execution": {
     "iopub.execute_input": "2023-02-11T18:36:22.740062Z",
     "iopub.status.busy": "2023-02-11T18:36:22.739327Z",
     "iopub.status.idle": "2023-02-11T18:36:22.744361Z",
     "shell.execute_reply": "2023-02-11T18:36:22.743257Z"
    },
    "papermill": {
     "duration": 0.016871,
     "end_time": "2023-02-11T18:36:22.746855",
     "exception": false,
     "start_time": "2023-02-11T18:36:22.729984",
     "status": "completed"
    },
    "tags": []
   },
   "outputs": [],
   "source": [
    "# Uncomment to see a hint\n",
    "#q4.hint()\n",
    "\n",
    "# Uncomment to view the solution\n",
    "#q4.solution()"
   ]
  },
  {
   "cell_type": "markdown",
   "id": "e2dfa068",
   "metadata": {
    "papermill": {
     "duration": 0.007482,
     "end_time": "2023-02-11T18:36:22.762220",
     "exception": false,
     "start_time": "2023-02-11T18:36:22.754738",
     "status": "completed"
    },
    "tags": []
   },
   "source": [
    "# 🌶️ Question 5\n",
    "\n",
    "Now say you can no longer buy fractions of a gallon.  (For instance, if you need 4.3 gallons to do a project, then you have to buy 5 gallons of paint.)\n",
    "\n",
    "With this new scenario, you will create a new function `get_actual_cost` that uses the same inputs and calculates the cost of your project.\n",
    "\n",
    "One function that you'll need to use to do this is `math.ceil()`.  We demonstrate usage of this function in the code cell below.  It takes as a number as input and rounds the number up to the nearest integer.  \n",
    "\n",
    "Run the next code cell to test this function for yourself.  Feel free to change the value of `test_value` and make sure `math.ceil()` returns the number you expect."
   ]
  },
  {
   "cell_type": "code",
   "execution_count": 11,
   "id": "1ff77ee3",
   "metadata": {
    "execution": {
     "iopub.execute_input": "2023-02-11T18:36:22.779525Z",
     "iopub.status.busy": "2023-02-11T18:36:22.779130Z",
     "iopub.status.idle": "2023-02-11T18:36:22.784558Z",
     "shell.execute_reply": "2023-02-11T18:36:22.783432Z"
    },
    "papermill": {
     "duration": 0.017459,
     "end_time": "2023-02-11T18:36:22.787558",
     "exception": false,
     "start_time": "2023-02-11T18:36:22.770099",
     "status": "completed"
    },
    "tags": []
   },
   "outputs": [
    {
     "name": "stdout",
     "output_type": "stream",
     "text": [
      "3\n"
     ]
    }
   ],
   "source": [
    "test_value = 2.17\n",
    "\n",
    "rounded_value = math.ceil(test_value)\n",
    "print(rounded_value)"
   ]
  },
  {
   "cell_type": "markdown",
   "id": "b9739cbb",
   "metadata": {
    "papermill": {
     "duration": 0.007666,
     "end_time": "2023-02-11T18:36:22.803214",
     "exception": false,
     "start_time": "2023-02-11T18:36:22.795548",
     "status": "completed"
    },
    "tags": []
   },
   "source": [
    "Use the next code cell to define the function `get_actual_cost()`.  You'll need to use the `math.ceil()` function to do this.\n",
    "\n",
    "When answering this question, note that it's completely valid to define a function that makes use of another function.  For instance, we can define a function `round_up_and_divide_by_three` that makes use of the `math.ceil` function:\n",
    "```\n",
    "def round_up_and_divide_by_three(num):\n",
    "    new_value = math.ceil(num)\n",
    "    final_value = new_value / 3\n",
    "    return final_value\n",
    "```"
   ]
  },
  {
   "cell_type": "code",
   "execution_count": 12,
   "id": "997284da",
   "metadata": {
    "execution": {
     "iopub.execute_input": "2023-02-11T18:36:22.821537Z",
     "iopub.status.busy": "2023-02-11T18:36:22.820584Z",
     "iopub.status.idle": "2023-02-11T18:36:22.831090Z",
     "shell.execute_reply": "2023-02-11T18:36:22.829375Z"
    },
    "papermill": {
     "duration": 0.023152,
     "end_time": "2023-02-11T18:36:22.834336",
     "exception": false,
     "start_time": "2023-02-11T18:36:22.811184",
     "status": "completed"
    },
    "tags": []
   },
   "outputs": [
    {
     "data": {
      "application/javascript": [
       "parent.postMessage({\"jupyterEvent\": \"custom.exercise_interaction\", \"data\": {\"outcomeType\": 2, \"failureMessage\": \"Expected return value of `30` given `sqft_walls=432`, `sqft_ceiling=144`, `sqft_per_gallon=400`, `cost_per_gallon=15`, but got `<learntools.core.constants.PlaceholderValue object at 0x7f51d4eb6710>` instead.\", \"interactionType\": 1, \"questionType\": 2, \"questionId\": \"5_NoMoreFractions\", \"learnToolsVersion\": \"0.3.4\", \"valueTowardsCompletion\": 0.0, \"exceptionClass\": \"\", \"trace\": \"\"}}, \"*\")"
      ],
      "text/plain": [
       "<IPython.core.display.Javascript object>"
      ]
     },
     "metadata": {},
     "output_type": "display_data"
    },
    {
     "data": {
      "text/markdown": [
       "<span style=\"color:#cc3333\">Incorrect:</span> Expected return value of `30` given `sqft_walls=432`, `sqft_ceiling=144`, `sqft_per_gallon=400`, `cost_per_gallon=15`, but got `<learntools.core.constants.PlaceholderValue object at 0x7f51d4eb6710>` instead."
      ],
      "text/plain": [
       "Incorrect: Expected return value of `30` given `sqft_walls=432`, `sqft_ceiling=144`, `sqft_per_gallon=400`, `cost_per_gallon=15`, but got `<learntools.core.constants.PlaceholderValue object at 0x7f51d4eb6710>` instead."
      ]
     },
     "metadata": {},
     "output_type": "display_data"
    }
   ],
   "source": [
    "def get_actual_cost(sqft_walls, sqft_ceiling, sqft_per_gallon, cost_per_gallon):\n",
    "    cost = ____\n",
    "    return cost\n",
    "\n",
    "# Check your answer\n",
    "q5.check()"
   ]
  },
  {
   "cell_type": "code",
   "execution_count": 13,
   "id": "5d0947ce",
   "metadata": {
    "execution": {
     "iopub.execute_input": "2023-02-11T18:36:22.856357Z",
     "iopub.status.busy": "2023-02-11T18:36:22.855775Z",
     "iopub.status.idle": "2023-02-11T18:36:22.862734Z",
     "shell.execute_reply": "2023-02-11T18:36:22.860537Z"
    },
    "papermill": {
     "duration": 0.023479,
     "end_time": "2023-02-11T18:36:22.866462",
     "exception": false,
     "start_time": "2023-02-11T18:36:22.842983",
     "status": "completed"
    },
    "tags": []
   },
   "outputs": [],
   "source": [
    "# Uncomment to see a hint\n",
    "#q5.hint()\n",
    "\n",
    "# Uncomment to view the solution\n",
    "#q5.solution()"
   ]
  },
  {
   "cell_type": "markdown",
   "id": "9f99f6e3",
   "metadata": {
    "papermill": {
     "duration": 0.014701,
     "end_time": "2023-02-11T18:36:22.892004",
     "exception": false,
     "start_time": "2023-02-11T18:36:22.877303",
     "status": "completed"
    },
    "tags": []
   },
   "source": [
    "Once your function is verified as correct, run the next code cell to calculate the updated cost of your project."
   ]
  },
  {
   "cell_type": "code",
   "execution_count": 14,
   "id": "dad74aa3",
   "metadata": {
    "execution": {
     "iopub.execute_input": "2023-02-11T18:36:22.913844Z",
     "iopub.status.busy": "2023-02-11T18:36:22.912718Z",
     "iopub.status.idle": "2023-02-11T18:36:22.920749Z",
     "shell.execute_reply": "2023-02-11T18:36:22.919726Z"
    },
    "papermill": {
     "duration": 0.019675,
     "end_time": "2023-02-11T18:36:22.922926",
     "exception": false,
     "start_time": "2023-02-11T18:36:22.903251",
     "status": "completed"
    },
    "tags": []
   },
   "outputs": [
    {
     "data": {
      "text/markdown": [],
      "text/plain": [
       "<learntools.core.constants.PlaceholderValue at 0x7f51d4eb6710>"
      ]
     },
     "execution_count": 14,
     "metadata": {},
     "output_type": "execute_result"
    }
   ],
   "source": [
    "get_actual_cost(432, 144, 400, 15) "
   ]
  },
  {
   "cell_type": "markdown",
   "id": "c4ef03a4",
   "metadata": {
    "papermill": {
     "duration": 0.007946,
     "end_time": "2023-02-11T18:36:22.939338",
     "exception": false,
     "start_time": "2023-02-11T18:36:22.931392",
     "status": "completed"
    },
    "tags": []
   },
   "source": [
    "Say you're working with a slightly larger room.  Run the next code cell to calculate the cost of the project."
   ]
  },
  {
   "cell_type": "code",
   "execution_count": 15,
   "id": "ed77a440",
   "metadata": {
    "execution": {
     "iopub.execute_input": "2023-02-11T18:36:22.957970Z",
     "iopub.status.busy": "2023-02-11T18:36:22.957297Z",
     "iopub.status.idle": "2023-02-11T18:36:22.963244Z",
     "shell.execute_reply": "2023-02-11T18:36:22.962436Z"
    },
    "papermill": {
     "duration": 0.017801,
     "end_time": "2023-02-11T18:36:22.965432",
     "exception": false,
     "start_time": "2023-02-11T18:36:22.947631",
     "status": "completed"
    },
    "tags": []
   },
   "outputs": [
    {
     "data": {
      "text/markdown": [],
      "text/plain": [
       "<learntools.core.constants.PlaceholderValue at 0x7f51d4eb6710>"
      ]
     },
     "execution_count": 15,
     "metadata": {},
     "output_type": "execute_result"
    }
   ],
   "source": [
    "get_actual_cost(594, 288, 400, 15) "
   ]
  },
  {
   "cell_type": "markdown",
   "id": "f08fd0f7",
   "metadata": {
    "papermill": {
     "duration": 0.00827,
     "end_time": "2023-02-11T18:36:22.982143",
     "exception": false,
     "start_time": "2023-02-11T18:36:22.973873",
     "status": "completed"
    },
    "tags": []
   },
   "source": [
    "# Keep going\n",
    "\n",
    "Continue to learn about **[data types](https://www.kaggle.com/alexisbcook/data-types)**."
   ]
  },
  {
   "cell_type": "markdown",
   "id": "05c1b649",
   "metadata": {
    "papermill": {
     "duration": 0.008,
     "end_time": "2023-02-11T18:36:22.998632",
     "exception": false,
     "start_time": "2023-02-11T18:36:22.990632",
     "status": "completed"
    },
    "tags": []
   },
   "source": [
    "---\n",
    "\n",
    "\n",
    "\n",
    "\n",
    "*Have questions or comments? Visit the [course discussion forum](https://www.kaggle.com/learn/intro-to-programming/discussion) to chat with other learners.*"
   ]
  }
 ],
 "metadata": {
  "kernelspec": {
   "display_name": "Python 3",
   "language": "python",
   "name": "python3"
  },
  "language_info": {
   "codemirror_mode": {
    "name": "ipython",
    "version": 3
   },
   "file_extension": ".py",
   "mimetype": "text/x-python",
   "name": "python",
   "nbconvert_exporter": "python",
   "pygments_lexer": "ipython3",
   "version": "3.7.12"
  },
  "papermill": {
   "default_parameters": {},
   "duration": 10.974276,
   "end_time": "2023-02-11T18:36:23.729668",
   "environment_variables": {},
   "exception": null,
   "input_path": "__notebook__.ipynb",
   "output_path": "__notebook__.ipynb",
   "parameters": {},
   "start_time": "2023-02-11T18:36:12.755392",
   "version": "2.3.4"
  }
 },
 "nbformat": 4,
 "nbformat_minor": 5
}
