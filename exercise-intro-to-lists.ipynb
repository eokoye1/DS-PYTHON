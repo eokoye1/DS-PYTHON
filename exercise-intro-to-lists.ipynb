{
 "cells": [
  {
   "cell_type": "markdown",
   "id": "bc57cda1",
   "metadata": {
    "papermill": {
     "duration": 0.008219,
     "end_time": "2023-03-04T19:01:01.302956",
     "exception": false,
     "start_time": "2023-03-04T19:01:01.294737",
     "status": "completed"
    },
    "tags": []
   },
   "source": [
    "**This notebook is an exercise in the [Intro to Programming](https://www.kaggle.com/learn/intro-to-programming) course.  You can reference the tutorial at [this link](https://www.kaggle.com/alexisbcook/intro-to-lists).**\n",
    "\n",
    "---\n"
   ]
  },
  {
   "cell_type": "markdown",
   "id": "4556c8b1",
   "metadata": {
    "papermill": {
     "duration": 0.006522,
     "end_time": "2023-03-04T19:01:01.316705",
     "exception": false,
     "start_time": "2023-03-04T19:01:01.310183",
     "status": "completed"
    },
    "tags": []
   },
   "source": [
    "In the tutorial, you learned how to define and modify Python lists.  In this exercise, you will use your new knowledge to solve several problems.\n",
    "\n",
    "# Set up the notebook\n",
    "\n",
    "Run the next code cell without changes to set up the notebook."
   ]
  },
  {
   "cell_type": "code",
   "execution_count": 1,
   "id": "c54b1585",
   "metadata": {
    "execution": {
     "iopub.execute_input": "2023-03-04T19:01:01.333353Z",
     "iopub.status.busy": "2023-03-04T19:01:01.331912Z",
     "iopub.status.idle": "2023-03-04T19:01:01.373053Z",
     "shell.execute_reply": "2023-03-04T19:01:01.372060Z"
    },
    "papermill": {
     "duration": 0.052567,
     "end_time": "2023-03-04T19:01:01.376051",
     "exception": false,
     "start_time": "2023-03-04T19:01:01.323484",
     "status": "completed"
    },
    "tags": []
   },
   "outputs": [
    {
     "name": "stdout",
     "output_type": "stream",
     "text": [
      "Setup complete.\n"
     ]
    }
   ],
   "source": [
    "from learntools.core import binder\n",
    "binder.bind(globals())\n",
    "from learntools.intro_to_programming.ex5 import *\n",
    "print('Setup complete.')"
   ]
  },
  {
   "cell_type": "markdown",
   "id": "0808cca1",
   "metadata": {
    "papermill": {
     "duration": 0.006226,
     "end_time": "2023-03-04T19:01:01.389085",
     "exception": false,
     "start_time": "2023-03-04T19:01:01.382859",
     "status": "completed"
    },
    "tags": []
   },
   "source": [
    "# Question 1\n",
    "\n",
    "You own a restaurant with five food dishes, organized in the Python list `menu` below.  One day, you decide to:\n",
    "- remove bean soup (`'bean soup'`) from the menu, and\n",
    "- add roasted beet salad (`'roasted beet salad'`) to the menu.\n",
    "\n",
    "Implement this change to the list below.  While completing this task, \n",
    "- do not change the line that creates the `menu` list.  \n",
    "- your answer should use `.remove()` and `.append()`.  "
   ]
  },
  {
   "cell_type": "code",
   "execution_count": 2,
   "id": "ce78da78",
   "metadata": {
    "execution": {
     "iopub.execute_input": "2023-03-04T19:01:01.405247Z",
     "iopub.status.busy": "2023-03-04T19:01:01.404453Z",
     "iopub.status.idle": "2023-03-04T19:01:01.418677Z",
     "shell.execute_reply": "2023-03-04T19:01:01.417363Z"
    },
    "papermill": {
     "duration": 0.026079,
     "end_time": "2023-03-04T19:01:01.421687",
     "exception": false,
     "start_time": "2023-03-04T19:01:01.395608",
     "status": "completed"
    },
    "tags": []
   },
   "outputs": [
    {
     "data": {
      "application/javascript": [
       "parent.postMessage({\"jupyterEvent\": \"custom.exercise_interaction\", \"data\": {\"outcomeType\": 1, \"valueTowardsCompletion\": 0.2, \"interactionType\": 1, \"questionType\": 2, \"questionId\": \"1_FoodMenu\", \"learnToolsVersion\": \"0.3.4\", \"failureMessage\": \"\", \"exceptionClass\": \"\", \"trace\": \"\"}}, \"*\")"
      ],
      "text/plain": [
       "<IPython.core.display.Javascript object>"
      ]
     },
     "metadata": {},
     "output_type": "display_data"
    },
    {
     "data": {
      "text/markdown": [
       "<span style=\"color:#33cc33\">Correct</span>"
      ],
      "text/plain": [
       "Correct"
      ]
     },
     "metadata": {},
     "output_type": "display_data"
    }
   ],
   "source": [
    "# Do not change: Initial menu for your restaurant\n",
    "menu = ['stewed meat with onions', 'bean soup', 'risotto with trout and shrimp',\n",
    "       'fish soup with cream and onion', 'gyro']\n",
    "\n",
    "# TODO: remove 'bean soup', and add 'roasted beet salad' to the end of the menu\n",
    "menu.remove(\"bean soup\")\n",
    "menu.append(\"roasted beet salad\")\n",
    "\n",
    "\n",
    "\n",
    "# Do not change: Check your answer\n",
    "q1.check()"
   ]
  },
  {
   "cell_type": "code",
   "execution_count": 3,
   "id": "dac4747a",
   "metadata": {
    "execution": {
     "iopub.execute_input": "2023-03-04T19:01:01.440339Z",
     "iopub.status.busy": "2023-03-04T19:01:01.439258Z",
     "iopub.status.idle": "2023-03-04T19:01:01.444855Z",
     "shell.execute_reply": "2023-03-04T19:01:01.443674Z"
    },
    "papermill": {
     "duration": 0.018578,
     "end_time": "2023-03-04T19:01:01.449218",
     "exception": false,
     "start_time": "2023-03-04T19:01:01.430640",
     "status": "completed"
    },
    "tags": []
   },
   "outputs": [],
   "source": [
    "# Uncomment to see a hint\n",
    "#q1.hint()\n",
    "\n",
    "# Uncomment to see the solution\n",
    "#q1.solution()"
   ]
  },
  {
   "cell_type": "markdown",
   "id": "757a5774",
   "metadata": {
    "papermill": {
     "duration": 0.008792,
     "end_time": "2023-03-04T19:01:01.467530",
     "exception": false,
     "start_time": "2023-03-04T19:01:01.458738",
     "status": "completed"
    },
    "tags": []
   },
   "source": [
    "# Question 2\n",
    "\n",
    "The list `num_customers` contains the number of customers who came into your restaurant every day over the last month (which lasted thirty days).  Fill in values for each of the following:\n",
    "- `avg_first_seven` - average number of customers who visited in the first seven days\n",
    "- `avg_last_seven` - average number of customers who visited in the last seven days\n",
    "- `max_month` - number of customers on the day that got the most customers in the last month\n",
    "- `min_month` - number of customers on the day that got the least customers in the last month\n",
    "\n",
    "Answer this question by writing code.  For instance, if you have to find the minimum value in a list, use `min()` instead of scanning for the smallest value and directly filling in a number."
   ]
  },
  {
   "cell_type": "code",
   "execution_count": 4,
   "id": "661914d4",
   "metadata": {
    "execution": {
     "iopub.execute_input": "2023-03-04T19:01:01.489031Z",
     "iopub.status.busy": "2023-03-04T19:01:01.487803Z",
     "iopub.status.idle": "2023-03-04T19:01:01.508659Z",
     "shell.execute_reply": "2023-03-04T19:01:01.507437Z"
    },
    "papermill": {
     "duration": 0.034678,
     "end_time": "2023-03-04T19:01:01.511708",
     "exception": false,
     "start_time": "2023-03-04T19:01:01.477030",
     "status": "completed"
    },
    "tags": []
   },
   "outputs": [
    {
     "name": "stdout",
     "output_type": "stream",
     "text": [
      "[137, 147, 135, 128, 170, 174, 165] first 7\n",
      "[149, 164, 163, 143, 143, 166, 171] last 7\n",
      "174 maxx\n",
      "126 min\n"
     ]
    },
    {
     "data": {
      "application/javascript": [
       "parent.postMessage({\"jupyterEvent\": \"custom.exercise_interaction\", \"data\": {\"outcomeType\": 1, \"valueTowardsCompletion\": 0.2, \"interactionType\": 1, \"questionType\": 1, \"questionId\": \"2_NumCustomers\", \"learnToolsVersion\": \"0.3.4\", \"failureMessage\": \"\", \"exceptionClass\": \"\", \"trace\": \"\"}}, \"*\")"
      ],
      "text/plain": [
       "<IPython.core.display.Javascript object>"
      ]
     },
     "metadata": {},
     "output_type": "display_data"
    },
    {
     "data": {
      "text/markdown": [
       "<span style=\"color:#33cc33\">Correct</span>"
      ],
      "text/plain": [
       "Correct"
      ]
     },
     "metadata": {},
     "output_type": "display_data"
    }
   ],
   "source": [
    "# Do not change: Number of customers each day for the last month\n",
    "num_customers = [137, 147, 135, 128, 170, 174, 165, 146, 126, 159,\n",
    "                 141, 148, 132, 147, 168, 153, 170, 161, 148, 152,\n",
    "                 141, 151, 131, 149, 164, 163, 143, 143, 166, 171]\n",
    "\n",
    "# TODO: Fill in values for the variables below\n",
    "avg_first_seven = sum(num_customers[:7])/7\n",
    "print(num_customers[:7],\"first 7\")\n",
    "\n",
    "avg_last_seven = sum (num_customers[23:])/7\n",
    "print(num_customers[23:],'last 7')\n",
    "max_month = max(num_customers)\n",
    "print(max_month, 'maxx')\n",
    "min_month = min(num_customers)\n",
    "print(min_month, 'min')\n",
    "\n",
    "# Do not change: Check your answer\n",
    "q2.check()"
   ]
  },
  {
   "cell_type": "code",
   "execution_count": 5,
   "id": "c79148ed",
   "metadata": {
    "execution": {
     "iopub.execute_input": "2023-03-04T19:01:01.534488Z",
     "iopub.status.busy": "2023-03-04T19:01:01.533854Z",
     "iopub.status.idle": "2023-03-04T19:01:01.540179Z",
     "shell.execute_reply": "2023-03-04T19:01:01.538734Z"
    },
    "papermill": {
     "duration": 0.021887,
     "end_time": "2023-03-04T19:01:01.543910",
     "exception": false,
     "start_time": "2023-03-04T19:01:01.522023",
     "status": "completed"
    },
    "tags": []
   },
   "outputs": [],
   "source": [
    "# Uncomment to see a hint\n",
    "#q2.hint()\n",
    "\n",
    "# Uncomment to see the solution\n",
    "#q2.solution()"
   ]
  },
  {
   "cell_type": "markdown",
   "id": "0b74279c",
   "metadata": {
    "papermill": {
     "duration": 0.009789,
     "end_time": "2023-03-04T19:01:01.563864",
     "exception": false,
     "start_time": "2023-03-04T19:01:01.554075",
     "status": "completed"
    },
    "tags": []
   },
   "source": [
    "# Question 3\n",
    "\n",
    "In the tutorial, we gave an example of a Python string with information that was better as a list."
   ]
  },
  {
   "cell_type": "code",
   "execution_count": 6,
   "id": "9ea1a68c",
   "metadata": {
    "execution": {
     "iopub.execute_input": "2023-03-04T19:01:01.588711Z",
     "iopub.status.busy": "2023-03-04T19:01:01.587591Z",
     "iopub.status.idle": "2023-03-04T19:01:01.594574Z",
     "shell.execute_reply": "2023-03-04T19:01:01.593280Z"
    },
    "papermill": {
     "duration": 0.024806,
     "end_time": "2023-03-04T19:01:01.597588",
     "exception": false,
     "start_time": "2023-03-04T19:01:01.572782",
     "status": "completed"
    },
    "tags": []
   },
   "outputs": [
    {
     "name": "stdout",
     "output_type": "stream",
     "text": [
      "pink primrose,hard-leaved pocket orchid,canterbury bells,sweet pea,english marigold,tiger lily,moon orchid,bird of paradise,monkshood,globe thistle\n"
     ]
    }
   ],
   "source": [
    "flowers = \"pink primrose,hard-leaved pocket orchid,canterbury bells,sweet pea,english marigold,tiger lily,moon orchid,bird of paradise,monkshood,globe thistle\"\n",
    "print(flowers)"
   ]
  },
  {
   "cell_type": "markdown",
   "id": "351ad540",
   "metadata": {
    "papermill": {
     "duration": 0.009424,
     "end_time": "2023-03-04T19:01:01.614606",
     "exception": false,
     "start_time": "2023-03-04T19:01:01.605182",
     "status": "completed"
    },
    "tags": []
   },
   "source": [
    "You can actually use Python to quickly turn this string into a list with `.split()`.  In the parentheses, we need to provide the character should be used to mark the end of one list item and the beginning of another, and enclose it in quotation marks.  In this case, that character is a comma."
   ]
  },
  {
   "cell_type": "code",
   "execution_count": 7,
   "id": "e7e7bbce",
   "metadata": {
    "execution": {
     "iopub.execute_input": "2023-03-04T19:01:01.633640Z",
     "iopub.status.busy": "2023-03-04T19:01:01.632525Z",
     "iopub.status.idle": "2023-03-04T19:01:01.641054Z",
     "shell.execute_reply": "2023-03-04T19:01:01.639707Z"
    },
    "papermill": {
     "duration": 0.022404,
     "end_time": "2023-03-04T19:01:01.644778",
     "exception": false,
     "start_time": "2023-03-04T19:01:01.622374",
     "status": "completed"
    },
    "tags": []
   },
   "outputs": [
    {
     "name": "stdout",
     "output_type": "stream",
     "text": [
      "['pink primrose', 'hard-leaved pocket orchid', 'canterbury bells', 'sweet pea', 'english marigold', 'tiger lily', 'moon orchid', 'bird of paradise', 'monkshood', 'globe thistle']\n"
     ]
    }
   ],
   "source": [
    " print(flowers.split(\",\"))"
   ]
  },
  {
   "cell_type": "markdown",
   "id": "51f4f35f",
   "metadata": {
    "papermill": {
     "duration": 0.007529,
     "end_time": "2023-03-04T19:01:01.662022",
     "exception": false,
     "start_time": "2023-03-04T19:01:01.654493",
     "status": "completed"
    },
    "tags": []
   },
   "source": [
    "Now it is your turn to try this out!  Create two Python lists:\n",
    "- `letters` should be a Python list where each entry is an uppercase letter of the English alphabet.  For instance, the first two entries should be `\"A\"` and `\"B\"`, and the final two entries should be `\"Y\"` and `\"Z\"`.  Use the string `alphabet` to create this list.\n",
    "- `address` should be a Python list where each row in `address` is a different item in the list.  Currently, each row in `address` is separated by a comma. "
   ]
  },
  {
   "cell_type": "code",
   "execution_count": 8,
   "id": "ed174d79",
   "metadata": {
    "execution": {
     "iopub.execute_input": "2023-03-04T19:01:01.680720Z",
     "iopub.status.busy": "2023-03-04T19:01:01.679575Z",
     "iopub.status.idle": "2023-03-04T19:01:01.693947Z",
     "shell.execute_reply": "2023-03-04T19:01:01.692711Z"
    },
    "papermill": {
     "duration": 0.027315,
     "end_time": "2023-03-04T19:01:01.697029",
     "exception": false,
     "start_time": "2023-03-04T19:01:01.669714",
     "status": "completed"
    },
    "tags": []
   },
   "outputs": [
    {
     "name": "stdout",
     "output_type": "stream",
     "text": [
      "original str of alphabet A.B.C.D.E.F.G.H.I.J.K.L.M.N.O.P.Q.R.S.T.U.V.W.X.Y.Z\n",
      "original str of address Mr. H. Potter,The cupboard under the Stairs,4 Privet Drive,Little Whinging,Surrey\n",
      "['A', 'B', 'C', 'D', 'E', 'F', 'G', 'H', 'I', 'J', 'K', 'L', 'M', 'N', 'O', 'P', 'Q', 'R', 'S', 'T', 'U', 'V', 'W', 'X', 'Y', 'Z'] list of alphabet\n",
      "['Mr. H. Potter', 'The cupboard under the Stairs', '4 Privet Drive', 'Little Whinging', 'Surrey'] list of address\n"
     ]
    },
    {
     "data": {
      "application/javascript": [
       "parent.postMessage({\"jupyterEvent\": \"custom.exercise_interaction\", \"data\": {\"outcomeType\": 1, \"valueTowardsCompletion\": 0.2, \"interactionType\": 1, \"questionType\": 1, \"questionId\": \"3_SplitString\", \"learnToolsVersion\": \"0.3.4\", \"failureMessage\": \"\", \"exceptionClass\": \"\", \"trace\": \"\"}}, \"*\")"
      ],
      "text/plain": [
       "<IPython.core.display.Javascript object>"
      ]
     },
     "metadata": {},
     "output_type": "display_data"
    },
    {
     "data": {
      "text/markdown": [
       "<span style=\"color:#33cc33\">Correct</span>"
      ],
      "text/plain": [
       "Correct"
      ]
     },
     "metadata": {},
     "output_type": "display_data"
    }
   ],
   "source": [
    "# DO not change: Define two Python strings\n",
    "alphabet = \"A.B.C.D.E.F.G.H.I.J.K.L.M.N.O.P.Q.R.S.T.U.V.W.X.Y.Z\"\n",
    "address = \"Mr. H. Potter,The cupboard under the Stairs,4 Privet Drive,Little Whinging,Surrey\"\n",
    "print(\"original str of alphabet\",alphabet)\n",
    "print(\"original str of address\",address)\n",
    "# TODO: Convert strings into Python lists\n",
    "letters = alphabet.split(\".\")\n",
    "print(letters,\"list of alphabet\")\n",
    "formatted_address = address.split(\",\") \n",
    "print(formatted_address,\"list of address\")\n",
    "\n",
    "# Do not change: Check your answer\n",
    "q3.check()"
   ]
  },
  {
   "cell_type": "code",
   "execution_count": 9,
   "id": "dddac998",
   "metadata": {
    "execution": {
     "iopub.execute_input": "2023-03-04T19:01:01.717249Z",
     "iopub.status.busy": "2023-03-04T19:01:01.716078Z",
     "iopub.status.idle": "2023-03-04T19:01:01.721819Z",
     "shell.execute_reply": "2023-03-04T19:01:01.720548Z"
    },
    "papermill": {
     "duration": 0.018817,
     "end_time": "2023-03-04T19:01:01.724414",
     "exception": false,
     "start_time": "2023-03-04T19:01:01.705597",
     "status": "completed"
    },
    "tags": []
   },
   "outputs": [],
   "source": [
    "# Uncomment to see a hint\n",
    "#q3.hint()\n",
    "\n",
    "# Uncomment to see the solution\n",
    "#q3.solution()"
   ]
  },
  {
   "cell_type": "markdown",
   "id": "47b928fa",
   "metadata": {
    "papermill": {
     "duration": 0.007679,
     "end_time": "2023-03-04T19:01:01.740187",
     "exception": false,
     "start_time": "2023-03-04T19:01:01.732508",
     "status": "completed"
    },
    "tags": []
   },
   "source": [
    "# Question 4\n",
    "\n",
    "In the Python course, you'll learn all about **list comprehensions**, which allow you to create a list based on the values in another list.  In this question, you'll get a brief preview of how they work.\n",
    "\n",
    "Say we're working with the list below."
   ]
  },
  {
   "cell_type": "code",
   "execution_count": 10,
   "id": "d23e019d",
   "metadata": {
    "execution": {
     "iopub.execute_input": "2023-03-04T19:01:01.762479Z",
     "iopub.status.busy": "2023-03-04T19:01:01.761226Z",
     "iopub.status.idle": "2023-03-04T19:01:01.767957Z",
     "shell.execute_reply": "2023-03-04T19:01:01.766611Z"
    },
    "papermill": {
     "duration": 0.022903,
     "end_time": "2023-03-04T19:01:01.770990",
     "exception": false,
     "start_time": "2023-03-04T19:01:01.748087",
     "status": "completed"
    },
    "tags": []
   },
   "outputs": [],
   "source": [
    "test_ratings = [1, 2, 3, 4, 5]"
   ]
  },
  {
   "cell_type": "markdown",
   "id": "8d0d20af",
   "metadata": {
    "papermill": {
     "duration": 0.00775,
     "end_time": "2023-03-04T19:01:01.787518",
     "exception": false,
     "start_time": "2023-03-04T19:01:01.779768",
     "status": "completed"
    },
    "tags": []
   },
   "source": [
    "Then we can use this list (`test_ratings`) to create a new list (`test_liked`) where each item has been turned into a boolean, depending on whether or not the item is greater than or equal to four."
   ]
  },
  {
   "cell_type": "code",
   "execution_count": 11,
   "id": "2b811e6f",
   "metadata": {
    "execution": {
     "iopub.execute_input": "2023-03-04T19:01:01.806213Z",
     "iopub.status.busy": "2023-03-04T19:01:01.805562Z",
     "iopub.status.idle": "2023-03-04T19:01:01.812806Z",
     "shell.execute_reply": "2023-03-04T19:01:01.811383Z"
    },
    "papermill": {
     "duration": 0.019965,
     "end_time": "2023-03-04T19:01:01.815386",
     "exception": false,
     "start_time": "2023-03-04T19:01:01.795421",
     "status": "completed"
    },
    "tags": []
   },
   "outputs": [
    {
     "name": "stdout",
     "output_type": "stream",
     "text": [
      "[False, False, False, True, True]\n"
     ]
    }
   ],
   "source": [
    "test_liked = [i>=4 for i in test_ratings]\n",
    "print(test_liked)"
   ]
  },
  {
   "cell_type": "markdown",
   "id": "3c670f16",
   "metadata": {
    "papermill": {
     "duration": 0.009077,
     "end_time": "2023-03-04T19:01:01.832236",
     "exception": false,
     "start_time": "2023-03-04T19:01:01.823159",
     "status": "completed"
    },
    "tags": []
   },
   "source": [
    "In this question, you'll use this list comprehension to define a function `percentage_liked()` that takes one argument as input:\n",
    "- `ratings`: list of ratings that people gave to a movie, where each rating is a number between 1-5, inclusive\n",
    "\n",
    "We say someone liked the movie, if they gave a rating of either 4 or 5.  Your function should return the percentage of people who liked the movie.\n",
    "\n",
    "For instance, if we supply a value of `[1, 2, 3, 4, 5, 4, 5, 1]`, then 50% (4/8) of the people liked the movie, and the function should return `0.5`.\n",
    "\n",
    "Part of the function has already been completed for you.  You need only use `list_liked` to calculate `percentage_liked`."
   ]
  },
  {
   "cell_type": "code",
   "execution_count": 12,
   "id": "8d8fd171",
   "metadata": {
    "execution": {
     "iopub.execute_input": "2023-03-04T19:01:01.851364Z",
     "iopub.status.busy": "2023-03-04T19:01:01.850176Z",
     "iopub.status.idle": "2023-03-04T19:01:01.863438Z",
     "shell.execute_reply": "2023-03-04T19:01:01.862419Z"
    },
    "papermill": {
     "duration": 0.026884,
     "end_time": "2023-03-04T19:01:01.867170",
     "exception": false,
     "start_time": "2023-03-04T19:01:01.840286",
     "status": "completed"
    },
    "tags": []
   },
   "outputs": [
    {
     "name": "stdout",
     "output_type": "stream",
     "text": [
      "[False, False, False, True, True, True, True, False]\n",
      "4\n",
      "[False, False, False, True, True, True, True, False]\n",
      "4\n",
      "[False, False, False, True]\n",
      "1\n",
      "[False, False, False, True, True, True, True, False, False, False, False]\n",
      "4\n",
      "[False, True, True, True, True, True, True, False]\n",
      "6\n"
     ]
    },
    {
     "data": {
      "application/javascript": [
       "parent.postMessage({\"jupyterEvent\": \"custom.exercise_interaction\", \"data\": {\"outcomeType\": 1, \"valueTowardsCompletion\": 0.2, \"interactionType\": 1, \"questionType\": 2, \"questionId\": \"4_PercentageLiked\", \"learnToolsVersion\": \"0.3.4\", \"failureMessage\": \"\", \"exceptionClass\": \"\", \"trace\": \"\"}}, \"*\")"
      ],
      "text/plain": [
       "<IPython.core.display.Javascript object>"
      ]
     },
     "metadata": {},
     "output_type": "display_data"
    },
    {
     "data": {
      "text/markdown": [
       "<span style=\"color:#33cc33\">Correct</span>"
      ],
      "text/plain": [
       "Correct"
      ]
     },
     "metadata": {},
     "output_type": "display_data"
    }
   ],
   "source": [
    "\n",
    "def percentage_liked(ratings):\n",
    "    list_liked = [i>=4 for i in ratings]\n",
    "    # TODO: Complete the function\n",
    "    print(list_liked)\n",
    "    print (sum(list_liked))\n",
    "    cnt = 0\n",
    "    for i in list_liked:\n",
    "        if i == True:\n",
    "            cnt= cnt + 1 \n",
    "    percentage_liked = cnt/len(ratings)\n",
    "    return percentage_liked\n",
    "\n",
    "# Do not change: should return 0.5\n",
    "percentage_liked([1, 2, 3, 4, 5, 4, 5, 1])\n",
    "\n",
    "# Do not change: Check your answer\n",
    "q4.check()"
   ]
  },
  {
   "cell_type": "code",
   "execution_count": 13,
   "id": "15c01b55",
   "metadata": {
    "execution": {
     "iopub.execute_input": "2023-03-04T19:01:01.888413Z",
     "iopub.status.busy": "2023-03-04T19:01:01.887501Z",
     "iopub.status.idle": "2023-03-04T19:01:01.893263Z",
     "shell.execute_reply": "2023-03-04T19:01:01.891910Z"
    },
    "papermill": {
     "duration": 0.020169,
     "end_time": "2023-03-04T19:01:01.895846",
     "exception": false,
     "start_time": "2023-03-04T19:01:01.875677",
     "status": "completed"
    },
    "tags": []
   },
   "outputs": [],
   "source": [
    "# Uncomment to see a hint\n",
    "#q4.hint()\n",
    "\n",
    "# Uncomment to see the solution\n",
    "#q4.solution()"
   ]
  },
  {
   "cell_type": "markdown",
   "id": "9ec6c91e",
   "metadata": {
    "papermill": {
     "duration": 0.007885,
     "end_time": "2023-03-04T19:01:01.913346",
     "exception": false,
     "start_time": "2023-03-04T19:01:01.905461",
     "status": "completed"
    },
    "tags": []
   },
   "source": [
    "# 🌶️ Question 5\n",
    " \n",
    "Say you're doing analytics for a website.  You need to write a function that returns the percentage growth in the total number of users relative to a specified number of years ago.\n",
    "\n",
    "Your function `percentage_growth()` should take two arguments as input:\n",
    "- `num_users` = Python list with the total number of users each year.  So `num_users[0]` is the total number of users in the first year, `num_users[1]` is the total number of users in the second year, and so on.  The final entry in the list gives the total number of users in the most recently completed year.\n",
    "- `yrs_ago` = number of years to go back in time when calculating the growth percentage\n",
    "\n",
    "For instance, say `num_users = [920344, 1043553, 1204334, 1458996, 1503323, 1593432, 1623463, 1843064, 1930992, 2001078]`.\n",
    "- if `yrs_ago = 1`, we want the function to return a value of about `0.036`. This corresponds to a percentage growth of approximately 3.6%, calculated as (2001078 - 1930992)/1930992.\n",
    "- if `years_ago = 7`, we would want to return approximately `0.66`.  This corresponds to a percentage growth of approximately 66%, calculated as (2001078 - 1204334)/1204334.\n",
    "\n",
    "Your coworker sent you a draft of a function, but it doesn't seem to be doing the correct calculation.  Can you figure out what has gone wrong and make the needed changes?"
   ]
  },
  {
   "cell_type": "code",
   "execution_count": 14,
   "id": "932bbb53",
   "metadata": {
    "execution": {
     "iopub.execute_input": "2023-03-04T19:01:01.933627Z",
     "iopub.status.busy": "2023-03-04T19:01:01.932461Z",
     "iopub.status.idle": "2023-03-04T19:01:01.950398Z",
     "shell.execute_reply": "2023-03-04T19:01:01.948909Z"
    },
    "papermill": {
     "duration": 0.031313,
     "end_time": "2023-03-04T19:01:01.952900",
     "exception": false,
     "start_time": "2023-03-04T19:01:01.921587",
     "status": "completed"
    },
    "tags": []
   },
   "outputs": [
    {
     "name": "stdout",
     "output_type": "stream",
     "text": [
      "1930992 scond part\n",
      "2001078 last element\n",
      "0.03629533421163837\n",
      "1204334 scond part\n",
      "2001078 last element\n",
      "0.6615639847417742\n",
      "1930992 scond part\n",
      "2001078 last element\n",
      "1841064 scond part\n",
      "2001232 last element\n",
      "1623463 scond part\n",
      "2001078 last element\n",
      "1593862 scond part\n",
      "2001232 last element\n",
      "1503323 scond part\n",
      "2001078 last element\n",
      "1478996 scond part\n",
      "2001232 last element\n",
      "1204334 scond part\n",
      "2001078 last element\n",
      "1009553 scond part\n",
      "2001232 last element\n",
      "920344 scond part\n",
      "2001078 last element\n"
     ]
    },
    {
     "data": {
      "application/javascript": [
       "parent.postMessage({\"jupyterEvent\": \"custom.exercise_interaction\", \"data\": {\"outcomeType\": 1, \"valueTowardsCompletion\": 0.2, \"interactionType\": 1, \"questionType\": 2, \"questionId\": \"5_WebsiteAnalytics\", \"learnToolsVersion\": \"0.3.4\", \"failureMessage\": \"\", \"exceptionClass\": \"\", \"trace\": \"\"}}, \"*\")"
      ],
      "text/plain": [
       "<IPython.core.display.Javascript object>"
      ]
     },
     "metadata": {},
     "output_type": "display_data"
    },
    {
     "data": {
      "text/markdown": [
       "<span style=\"color:#33cc33\">Correct</span>"
      ],
      "text/plain": [
       "Correct"
      ]
     },
     "metadata": {},
     "output_type": "display_data"
    }
   ],
   "source": [
    "# TODO: Edit the function\n",
    "def percentage_growth(num_users, yrs_ago):\n",
    "    print(num_users[len(num_users)-yrs_ago-1],\"scond part\")\n",
    "    print(num_users[len(num_users)-1],\"last element\")\n",
    "    growth = (num_users[len(num_users)-1] - num_users[len(num_users)-yrs_ago-1])/num_users[len(num_users)-yrs_ago-1]\n",
    "    return growth\n",
    "\n",
    "# Do not change: Variable for calculating some test examples\n",
    "num_users_test = [920344, 1043553, 1204334, 1458996, 1503323, 1593432, 1623463, 1843064, 1930992, 2001078]\n",
    "\n",
    "# Do not change: Should return .036\n",
    "print(percentage_growth(num_users_test, 1))\n",
    "\n",
    "# Do not change: Should return 0.66\n",
    "print(percentage_growth(num_users_test, 7))\n",
    "\n",
    "# Do not change: Check your answer\n",
    "q5.check()"
   ]
  },
  {
   "cell_type": "code",
   "execution_count": 15,
   "id": "bf8c90dc",
   "metadata": {
    "execution": {
     "iopub.execute_input": "2023-03-04T19:01:01.973033Z",
     "iopub.status.busy": "2023-03-04T19:01:01.972068Z",
     "iopub.status.idle": "2023-03-04T19:01:01.977627Z",
     "shell.execute_reply": "2023-03-04T19:01:01.976637Z"
    },
    "papermill": {
     "duration": 0.018362,
     "end_time": "2023-03-04T19:01:01.979988",
     "exception": false,
     "start_time": "2023-03-04T19:01:01.961626",
     "status": "completed"
    },
    "tags": []
   },
   "outputs": [],
   "source": [
    "# Uncomment to see a hint\n",
    "#q5.hint()\n",
    "\n",
    "# Uncomment to see the solution\n",
    "#q5.solution()"
   ]
  },
  {
   "cell_type": "markdown",
   "id": "ab44668d",
   "metadata": {
    "papermill": {
     "duration": 0.008463,
     "end_time": "2023-03-04T19:01:01.997287",
     "exception": false,
     "start_time": "2023-03-04T19:01:01.988824",
     "status": "completed"
    },
    "tags": []
   },
   "source": [
    "# Congratulations!\n",
    "\n",
    "Congratulations for finishing the Intro to Programming course!  You should be proud of your very first steps with learning programming.  As next steps, we recommend taking:\n",
    "- the **[Python course](http://www.kaggle.com/learn/python)**, and \n",
    "- the **[Intro to Machine Learning course](https://www.kaggle.com/learn/intro-to-machine-learning)**."
   ]
  },
  {
   "cell_type": "markdown",
   "id": "add16893",
   "metadata": {
    "papermill": {
     "duration": 0.008456,
     "end_time": "2023-03-04T19:01:02.014260",
     "exception": false,
     "start_time": "2023-03-04T19:01:02.005804",
     "status": "completed"
    },
    "tags": []
   },
   "source": [
    "---\n",
    "\n",
    "\n",
    "\n",
    "\n",
    "*Have questions or comments? Visit the [course discussion forum](https://www.kaggle.com/learn/intro-to-programming/discussion) to chat with other learners.*"
   ]
  }
 ],
 "metadata": {
  "kernelspec": {
   "display_name": "Python 3",
   "language": "python",
   "name": "python3"
  },
  "language_info": {
   "codemirror_mode": {
    "name": "ipython",
    "version": 3
   },
   "file_extension": ".py",
   "mimetype": "text/x-python",
   "name": "python",
   "nbconvert_exporter": "python",
   "pygments_lexer": "ipython3",
   "version": "3.7.12"
  },
  "papermill": {
   "default_parameters": {},
   "duration": 10.883934,
   "end_time": "2023-03-04T19:01:02.245310",
   "environment_variables": {},
   "exception": null,
   "input_path": "__notebook__.ipynb",
   "output_path": "__notebook__.ipynb",
   "parameters": {},
   "start_time": "2023-03-04T19:00:51.361376",
   "version": "2.4.0"
  }
 },
 "nbformat": 4,
 "nbformat_minor": 5
}
